{
 "cells": [
  {
   "cell_type": "markdown",
   "metadata": {},
   "source": [
    "<img src='https://radiant-assets.s3-us-west-2.amazonaws.com/PrimaryRadiantMLHubLogo.png' alt='Radiant MLHub Logo' width='300'/>\n",
    "\n",
    "# A Guide to Access the Data on Radiant MLHub\n",
    "\n",
    "\n",
    "This notebook walks you through the steps to get access to Radiant MLHub and download and explore the Kenya Crop dataset. These notebooks were originally developed for the CV4A ICRL Crop Type Classification Challenge, which was a part of the [CV4A](https://www.cv4gc.org/cv4a2020/) workshop at 2020 ICLR. \n",
    "\n",
    "To explore the data after download, please see the `cv4a-crop-challenge-load-data` in this same repository."
   ]
  },
  {
   "cell_type": "markdown",
   "metadata": {},
   "source": [
    "## Radiant MLHub API\n",
    "\n",
    "\n",
    "The Radiant MLHub API gives access to open Earth imagery training data for machine learning applications. You can learn more about the repository at the [Radiant MLHub site](https://mlhub.earth) and about the organization behind it at the [Radiant Earth Foundation site](https://radiant.earth).\n",
    "\n",
    "Full documentation for the API is available at [https://mlhub.earth/docs](https://mlhub.earth/docs).\n",
    "\n",
    "Each item in our collection is explained in json format compliant with [STAC](https://stacspec.org/) [label extension](https://github.com/stac-extensions/label) definition."
   ]
  },
  {
   "cell_type": "markdown",
   "metadata": {},
   "source": [
    "## Dependencies\n",
    "\n",
    "This notebook utilizes the [`radiant-mlhub` Python client](https://pypi.org/project/radiant-mlhub/) for interacting with the API. See the official [`radiant-mlhub` docs](https://radiant-mlhub.readthedocs.io/) for more documentation of the full functionality of that library.\n",
    "\n",
    "Please see the [`mlhub-tutorials README.md`](https://github.com/radiantearth/mlhub-tutorials/blob/Fix/version-pinning/README.md) for information on how to install dependencies for the noteboooks in this repository."
   ]
  },
  {
   "cell_type": "code",
   "execution_count": null,
   "metadata": {},
   "outputs": [],
   "source": [
    "# Import required libraries\n",
    "from radiant_mlhub import Dataset\n",
    "from pathlib import Path\n",
    "import os"
   ]
  },
  {
   "cell_type": "markdown",
   "metadata": {},
   "source": [
    "## Authentication\n",
    "\n",
    "### Create an API Key\n",
    "\n",
    "Access to the Radiant MLHub API requires an API key. To get your API key, go to [mlhub.earth/profile](https://mlhub.earth/profile). If you have not used Radiant MLHub before, you will need to sign up and create a new account. Otherwise, sign in. In the **API Keys** tab, you'll be able to create API key(s), which you will need. *Do not share* your API key with others: your usage may be limited and sharing your API key is a security risk.\n",
    "\n",
    "### Configure the Client\n",
    "\n",
    "Once you have your API key, you need to configure the `radiant_mlhub` library to use that key. There are a number of ways to configure this (see the [Authentication docs](https://radiant-mlhub.readthedocs.io/en/latest/authentication.html) for details). \n",
    "\n",
    "For these examples, we will set the `MLHUB_API_KEY` environment variable. Run the cell below to save your API key as an environment variable that the client library will recognize.\n",
    "\n",
    "*If you are running this notebook locally and have configured a profile as described in the [Authentication docs](https://radiant-mlhub.readthedocs.io/en/latest/authentication.html), then you do not need to execute this cell.*\n"
   ]
  },
  {
   "cell_type": "code",
   "execution_count": null,
   "metadata": {},
   "outputs": [],
   "source": [
    "os.environ['MLHUB_API_KEY'] = 'YOUR API KEY'"
   ]
  },
  {
   "cell_type": "markdown",
   "metadata": {},
   "source": [
    "## Retrieving the crop type dataset\n",
    "\n",
    "The dataset for this competition is `ref_african_crops_kenya_02`. Within each Radiant MLHub dataset, the data is stored in thematic collections. A collection represents the top-most data level in [STAC](https://stacspec.org/). Let's take a look at the dataset and its collections. \n"
   ]
  },
  {
   "cell_type": "code",
   "execution_count": null,
   "metadata": {
    "scrolled": true
   },
   "outputs": [],
   "source": [
    "dataset = Dataset.fetch('ref_african_crops_kenya_02')\n",
    "\n",
    "print(f'ID: {dataset.id}')\n",
    "print(f'Title: {dataset.title}')\n",
    "print('Collections:')\n",
    "for collection in dataset.collections:\n",
    "    print(f'* {collection.id}')"
   ]
  },
  {
   "cell_type": "markdown",
   "metadata": {},
   "source": [
    "The two collections associated with this dataset are:\n",
    "- `ref_african_crops_kenya_02_source`: includes the multi-temporal bands of Sentinel-2\n",
    "- `ref_african_crops_kenya_02_labels`: includes the labels and field IDs"
   ]
  },
  {
   "cell_type": "code",
   "execution_count": null,
   "metadata": {},
   "outputs": [],
   "source": [
    "catalog_size = dataset.stac_catalog_size\n",
    "estimated_dataset_size = dataset.estimated_dataset_size\n",
    "print(\"Catalog Size: \", catalog_size) \n",
    "print(\"Estimated Dataset Size: \", estimated_dataset_size) "
   ]
  },
  {
   "cell_type": "markdown",
   "metadata": {},
   "source": [
    "Looks like the dataset is estimated to be around 16GB. If you are doing this work locally, make sure you have enough storage space available before moving onto the next step. If you have limited storage, check out one of our other tutorials that deals with smaller datasets (insert tutorials here)\n",
    "\n",
    "### Downloading the Data\n",
    "\n",
    "We will download the `ref_african_crops_kenya_02` dataset. As we learned in our dataset exploration above, this dataset includes the `ref_african_crops_kenya_02_source` and `ref_african_crops_kenya_02_labels` collections.\n",
    "\n",
    "NOTE: If you modify the data download location below, be sure to also update this path in the following tutorial notebook `cv4a-crop-challenge-load-data`."
   ]
  },
  {
   "cell_type": "code",
   "execution_count": null,
   "metadata": {},
   "outputs": [],
   "source": [
    "# Set output path for data download\n",
    "output_path = Path(\"./data/\").resolve()"
   ]
  },
  {
   "cell_type": "code",
   "execution_count": null,
   "metadata": {
    "scrolled": true
   },
   "outputs": [],
   "source": [
    "dataset.download(output_dir=output_path)\n",
    "\n",
    "print('Done\\n')"
   ]
  }
 ],
 "metadata": {
  "kernelspec": {
   "display_name": "Python 3 (ipykernel)",
   "language": "python",
   "name": "python3"
  },
  "language_info": {
   "codemirror_mode": {
    "name": "ipython",
    "version": 3
   },
   "file_extension": ".py",
   "mimetype": "text/x-python",
   "name": "python",
   "nbconvert_exporter": "python",
   "pygments_lexer": "ipython3",
   "version": "3.10.8"
  }
 },
 "nbformat": 4,
 "nbformat_minor": 4
}
