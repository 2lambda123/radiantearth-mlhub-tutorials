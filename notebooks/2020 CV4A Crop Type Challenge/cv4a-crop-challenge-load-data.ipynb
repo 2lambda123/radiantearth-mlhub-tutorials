{
 "cells": [
  {
   "cell_type": "markdown",
   "metadata": {},
   "source": [
    "<img src='https://radiant-assets.s3-us-west-2.amazonaws.com/PrimaryRadiantMLHubLogo.png' alt='Radiant MLHub Logo' width='300'/>\n",
    "\n",
    "# CV4A ICRL Crop Type Classification Challenge\n",
    "# A Guide to load & visualize the data in Python\n"
   ]
  },
  {
   "cell_type": "code",
   "execution_count": null,
   "metadata": {},
   "outputs": [],
   "source": [
    "# Required libraries\n",
    "from pathlib import Path\n",
    "#from io import BytesIO\n",
    "from glob import glob\n",
    "\n",
    "from tqdm.notebook import tqdm\n",
    "import tifffile as tiff\n",
    "import matplotlib.pyplot as plt\n",
    "import numpy as np\n",
    "from skimage import exposure\n",
    "\n",
    "%matplotlib inline"
   ]
  },
  {
   "cell_type": "code",
   "execution_count": null,
   "metadata": {},
   "outputs": [],
   "source": [
    "# The path to the source collection that was extracted from the download archive\n",
    "collection_path = Path('./data/ref_african_crops_kenya_02/ref_african_crops_kenya_02_source')"
   ]
  },
  {
   "cell_type": "code",
   "execution_count": null,
   "metadata": {},
   "outputs": [],
   "source": [
    "def load_file(img_path):\n",
    "    \"\"\"Takes a path to the download archive and the path within the archive to the image and returns a numpy array.\"\"\"\n",
    "    \n",
    "    return tiff.imread(str(img_path))"
   ]
  },
  {
   "cell_type": "code",
   "execution_count": null,
   "metadata": {},
   "outputs": [],
   "source": [
    "# Get a list of dates that an observation from Sentinel-2 is provided for from the currently \n",
    "#  downloaded imagery\n",
    "\n",
    "tile_dates = dict()\n",
    "\n",
    "def filter_tifs(name):\n",
    "    return name.endswith('.tif')\n",
    "\n",
    "for f in glob(str(collection_path / '**/*.json')):\n",
    "    tif_path = Path(f)\n",
    "    _, tile_id, tile_date = tif_path.parent.name.rsplit('_', 2)\n",
    "\n",
    "    if tile_id not in tile_dates:\n",
    "        tile_dates[tile_id] = set()\n",
    "\n",
    "    tile_dates[tile_id].add(tile_date)"
   ]
  },
  {
   "cell_type": "code",
   "execution_count": null,
   "metadata": {},
   "outputs": [],
   "source": [
    "for tile in sorted(tile_dates.keys()):\n",
    "    print(f'Tile ID: {tile}')\n",
    "    dates = sorted(list(tile_dates[tile]))\n",
    "    print(f'Dates: {\", \".join(dates)}')\n",
    "    print('')"
   ]
  },
  {
   "cell_type": "code",
   "execution_count": null,
   "metadata": {},
   "outputs": [],
   "source": [
    "# Available bands\n",
    "bands = ['B01', 'B02', 'B03', 'B04', 'B05', 'B06', 'B07', 'B08', 'B8A', 'B09', 'B11', 'B12', 'CLD']"
   ]
  },
  {
   "cell_type": "code",
   "execution_count": null,
   "metadata": {
    "scrolled": true
   },
   "outputs": [],
   "source": [
    "# Sample file to load:\n",
    "tile = '02'\n",
    "date_ = '20190825'\n",
    "band = 'B03'\n",
    "\n",
    "archive_path = \"./data/ref_african_crops_kenya_02_source.tar.gz\"\n",
    "img_path = collection_path / f\"ref_african_crops_kenya_02_tile_{tile}_{date_}/{band}.tif\"\n",
    "band_data = load_file(img_path)"
   ]
  },
  {
   "cell_type": "code",
   "execution_count": null,
   "metadata": {},
   "outputs": [],
   "source": [
    "fig = plt.figure(figsize=(7, 7))\n",
    "plt.imshow(band_data, vmin=0, vmax=0.15)"
   ]
  },
  {
   "cell_type": "markdown",
   "metadata": {},
   "source": [
    "## Time Series Loading and Band Visualizations\n",
    "\n",
    "### Load time series as numpy array"
   ]
  },
  {
   "cell_type": "code",
   "execution_count": null,
   "metadata": {},
   "outputs": [],
   "source": [
    "selected_tile = list(tile_dates.keys())[0]\n",
    "dates = sorted(tile_dates[selected_tile])\n",
    "\n",
    "bands = ['B01', 'B02', 'B03', 'B04', 'B05', 'B06', 'B07', 'B08', 'B8A', 'B09', 'B11', 'B12', 'CLD']\n",
    "def load_image(date):\n",
    "    img = list()\n",
    "    for band in bands:\n",
    "        img_path = collection_path / f\"ref_african_crops_kenya_02_tile_{selected_tile}_{date}/{band}.tif\"\n",
    "        img.append(load_file(img_path))\n",
    "    return np.dstack(img)\n",
    "\n",
    "def load_timeseries():\n",
    "    tstack = list()\n",
    "    with tqdm(dates, total=len(dates), desc=\"reading images\") as pbar:\n",
    "        for date in pbar:\n",
    "            tstack.append(load_image(date))\n",
    "    return np.stack(tstack) \n",
    "\n",
    "timeseries = load_timeseries()\n",
    "print(timeseries.shape)"
   ]
  },
  {
   "cell_type": "code",
   "execution_count": null,
   "metadata": {
    "scrolled": false
   },
   "outputs": [],
   "source": [
    "# List of Sentinel-2 bands in the dataset\n",
    "\n",
    "rgb = np.array(['B04','B03', 'B02'])\n",
    "rgb_idx = [bands.index(b) for b in rgb]\n",
    "rgb_stack = timeseries[:,:,:,rgb_idx]\n",
    "\n",
    "false_color = np.array(['B08','B04', 'B03'])\n",
    "false_color_idx = [bands.index(b) for b in false_color]\n",
    "false_color_stack = timeseries[:,:,:,false_color_idx]\n",
    "\n",
    "perc_rgb = np.percentile(rgb_stack.mean(2), (10, 90))\n",
    "perc_false_color = np.percentile(np.median(false_color_stack,axis=2), (2, 98))\n",
    "\n",
    "red = timeseries[:,:,:,bands.index(\"B04\")]\n",
    "nir = timeseries[:,:,:,bands.index(\"B08\")]\n",
    "ndvi = (red-nir) / (red+nir)\n",
    "\n",
    "fig,axs = plt.subplots(len(dates),3,figsize=(15,len(dates)*8))\n",
    "\n",
    "with tqdm(range(len(dates)),total=len(dates)) as pbar:\n",
    "    for date_idx in pbar:\n",
    "\n",
    "        ax = axs[date_idx,0]\n",
    "        rgb_img = rgb_stack[date_idx]\n",
    "        rgb_img = exposure.rescale_intensity(rgb_img, in_range=(perc_rgb[0],perc_rgb[1]))\n",
    "        ax.imshow(rgb_img)\n",
    "        ax.axis('off')\n",
    "        dt = dates[date_idx]\n",
    "        ax.set_title(f\"RGB {dt} {rgb}\")\n",
    "\n",
    "        ax = axs[date_idx,1]\n",
    "        false_color_img = false_color_stack[date_idx]\n",
    "        false_color_img = exposure.rescale_intensity(false_color_img, in_range=(perc_false_color[0],perc_false_color[1]))\n",
    "        ax.imshow(false_color_img)\n",
    "        ax.axis('off')\n",
    "        dt = dates[date_idx]\n",
    "        ax.set_title(f\"False-Color {dt} {false_color}\")\n",
    "\n",
    "        ax = axs[date_idx,2]\n",
    "        ndvi_img = ndvi[date_idx]\n",
    "        ax.imshow(ndvi_img, cmap=\"Greens_r\")\n",
    "        ax.axis('off')\n",
    "        dt = dates[date_idx]\n",
    "        ax.set_title(f\"NDVI {dt} (B08-B04)/(B08+B04)\")\n",
    "\n",
    "fig.tight_layout()"
   ]
  }
 ],
 "metadata": {
  "kernelspec": {
   "display_name": "Python 3 (ipykernel)",
   "language": "python",
   "name": "python3"
  },
  "language_info": {
   "codemirror_mode": {
    "name": "ipython",
    "version": 3
   },
   "file_extension": ".py",
   "mimetype": "text/x-python",
   "name": "python",
   "nbconvert_exporter": "python",
   "pygments_lexer": "ipython3",
   "version": "3.10.8"
  }
 },
 "nbformat": 4,
 "nbformat_minor": 2
}
