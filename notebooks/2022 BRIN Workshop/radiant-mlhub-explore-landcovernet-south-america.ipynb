{
 "cells": [
  {
   "cell_type": "markdown",
   "metadata": {},
   "source": [
    "<img src='https://radiant-assets.s3-us-west-2.amazonaws.com/PrimaryRadiantMLHubLogo.png' alt='Radiant MLHub Logo' width='300'/>\n",
    "\n",
    "# How to use the Radiant MLHub API to browse and download the LandCoverNet South America dataset\n",
    "\n",
    "This Jupyter notebook, which you may copy and adapt for any use, shows basic examples of how to use the API to download labels and source imagery for the LandCoverNet dataset. Full documentation for the API is available at [docs.mlhub.earth](http://docs.mlhub.earth).\n",
    "\n",
    "We'll show you how to set up your authorization, list collection properties, and retrieve the items (the data contained within them) from those collections.\n",
    "\n",
    "Each item in our collection is explained in json format compliant with STAC label extension definition."
   ]
  },
  {
   "cell_type": "markdown",
   "metadata": {},
   "source": [
    "## Citation\n",
    "\n",
    "Radiant Earth Foundation (2022) \"LandCoverNet South America: A Geographically Diverse Land Cover Classification Training Dataset\", Version 1.0, Radiant MLHub. [Date Accessed] [https://doi.org/10.34911/rdnt.6a27yv](https://doi.org/10.34911/rdnt.6a27yv)"
   ]
  },
  {
   "cell_type": "markdown",
   "metadata": {},
   "source": [
    "## Dependencies\n",
    "\n",
    "This notebook utilizes the [`radiant-mlhub` Python client](https://pypi.org/project/radiant-mlhub/) for interacting with the API. See the official [`radiant-mlhub` docs](https://radiant-mlhub.readthedocs.io/) for more documentation of the full functionality of that library.\n",
    "\n",
    "Please see the [`mlhub-tutorials README.md`](https://github.com/radiantearth/mlhub-tutorials/blob/Fix/version-pinning/README.md) for information on how to install dependencies for the noteboooks in this repository. "
   ]
  },
  {
   "cell_type": "markdown",
   "metadata": {},
   "source": [
    "## Authentication\n",
    "\n",
    "### Create an API Key\n",
    "\n",
    "Access to the Radiant MLHub API requires an API key. To get your API key, go to [mlhub.earth](https://mlhub.earth/). If you have not used Radiant MLHub before, you will need to sign up and create a new account. Otherwise, sign in. In the **API Keys** tab, you'll be able to create API key(s), which you will need. *Do not share* your API key with others: your usage may be limited and sharing your API key is a security risk.\n",
    "\n",
    "### Configure the Client\n",
    "\n",
    "Once you have your API key, you need to configure the `radiant_mlhub` library to use that key. There are a number of ways to configure this (see the [Authentication docs](https://radiant-mlhub.readthedocs.io/en/latest/authentication.html) for details). \n",
    "\n",
    "For these examples, we will set the `MLHUB_API_KEY` environment variable. Run the cell below to save your API key as an environment variable that the client library will recognize.\n",
    "\n",
    "*If you are running this notebook locally and have configured a profile as described in the [Authentication docs](https://radiant-mlhub.readthedocs.io/en/latest/authentication.html), then you do not need to execute this cell.*\n"
   ]
  },
  {
   "cell_type": "code",
   "execution_count": 1,
   "metadata": {},
   "outputs": [],
   "source": [
    "import os\n",
    "from radiant_mlhub import Dataset\n",
    "\n",
    "os.environ['MLHUB_API_KEY'] = 'YOUR API KEY'"
   ]
  },
  {
   "cell_type": "markdown",
   "metadata": {},
   "source": [
    "## Listing Collection Properties\n",
    "\n",
    "The following cell makes a request to the API for the properties for the LandCoverNet labels collection and prints out a few important properties."
   ]
  },
  {
   "cell_type": "code",
   "execution_count": 2,
   "metadata": {},
   "outputs": [
    {
     "name": "stdout",
     "output_type": "stream",
     "text": [
      "Title: LandCoverNet South America\n",
      "DOI: 10.34911/rdnt.6a27yv\n",
      "Citation: Radiant Earth Foundation (2022) \"LandCoverNet South America: A Geographically Diverse Land Cover Classification Training Dataset\", Version 1.0, Radiant MLHub. [Date Accessed] https://doi.org/10.34911/rdnt.6a27yv\n",
      "\n",
      "Collection IDs and License:\n",
      "    ref_landcovernet_sa_v1_source_sentinel_2 : CC-BY-4.0\n",
      "    ref_landcovernet_sa_v1_source_sentinel_1 : CC-BY-4.0\n",
      "    ref_landcovernet_sa_v1_source_landsat_8 : CC-BY-4.0\n",
      "    ref_landcovernet_sa_v1_labels : CC-BY-4.0\n"
     ]
    }
   ],
   "source": [
    "dataset = Dataset.fetch('ref_landcovernet_sa_v1')\n",
    "\n",
    "print(f'Title: {dataset.title}')\n",
    "print(f'DOI: {dataset.doi}')\n",
    "print(f'Citation: {dataset.citation}')\n",
    "print('\\nCollection IDs and License:')\n",
    "for collection in dataset.collections:\n",
    "    print(f'    {collection.id} : {collection.license}')"
   ]
  },
  {
   "cell_type": "markdown",
   "metadata": {},
   "source": [
    "## Downloading Assets\n",
    "\n",
    "> **NOTE:** If you are running these notebooks using Binder these resources will be downloaded to the remote file system that the notebooks are running on and **not to your local file system.** If you want to download the files to your machine, you will need to clone the repo and run the notebook locally.\n",
    "\n",
    "This next cell will call the dataset download function with a filter specified which only downloads the `labels` assets within the `ref_landcovernet_sa_v1_labels` collection. For more information about filtering downloads, reference the [collection and asset key filtering method in the Python client documenation](https://radiant-mlhub.readthedocs.io/en/latest/datasets.html#filter-by-collection-and-asset-keys)."
   ]
  },
  {
   "cell_type": "code",
   "execution_count": 3,
   "metadata": {},
   "outputs": [],
   "source": [
    "aoi = {\n",
    "  \"type\": \"Feature\",\n",
    "  \"properties\": {},\n",
    "  \"geometry\": {\n",
    "    \"type\": \"Polygon\",\n",
    "    \"coordinates\": [\n",
    "      [\n",
    "        [\n",
    "          -74.970703125,\n",
    "          -49.32512199104001\n",
    "        ],\n",
    "        [\n",
    "          -66.26953125,\n",
    "          -49.32512199104001\n",
    "        ],\n",
    "        [\n",
    "          -66.26953125,\n",
    "          -21.207458730482642\n",
    "        ],\n",
    "        [\n",
    "          -74.970703125,\n",
    "          -21.207458730482642\n",
    "        ],\n",
    "        [\n",
    "          -74.970703125,\n",
    "          -49.32512199104001\n",
    "        ]\n",
    "      ]\n",
    "    ]\n",
    "  }\n",
    "}"
   ]
  },
  {
   "cell_type": "code",
   "execution_count": 4,
   "metadata": {},
   "outputs": [
    {
     "name": "stderr",
     "output_type": "stream",
     "text": [
      "ref_landcovernet_sa_v1: fetch stac catalog: 57255KB [00:17, 3188.97KB/s]       \n",
      "INFO:radiant_mlhub.client.catalog_downloader:unarchive ref_landcovernet_sa_v1.tar.gz ...\n",
      "unarchive ref_landcovernet_sa_v1.tar.gz: 100%|█| 345596/345596 [00:41<00:00, 82\n",
      "INFO:radiant_mlhub.client.catalog_downloader:create stac asset list (please wait) ...\n",
      "WARNING:radiant_mlhub.client.catalog_downloader:skipping collection ref_landcovernet_sa_v1_source_landsat_8\n",
      "WARNING:radiant_mlhub.client.catalog_downloader:skipping collection ref_landcovernet_sa_v1_source_sentinel_1\n",
      "WARNING:radiant_mlhub.client.catalog_downloader:skipping collection ref_landcovernet_sa_v1_source_sentinel_2\n",
      "INFO:radiant_mlhub.client.catalog_downloader:1488780 unique assets in stac catalog.\n",
      "INFO:radiant_mlhub.client.catalog_downloader:filter by collection ids and asset keys\n",
      "filter by collection ids and asset keys: 1057999872it [00:01, 1438185980.70it/s]INFO:radiant_mlhub.client.catalog_downloader:1200 assets after collection filter.\n",
      "filter by collection ids and asset keys: 1087640519it [00:04, 238687359.84it/s] \n",
      "INFO:radiant_mlhub.client.catalog_downloader:filter by intersects\n",
      "filter by intersects:   0%|                           | 0/1200 [00:00<?, ?it/s]INFO:radiant_mlhub.client.catalog_downloader:166 assets after intersects filter.\n",
      "filter by intersects: 3424it [00:00, 12102.70it/s]                             \n",
      "download assets:   0%|                                 | 0/166 [00:00<?, ?it/s]WARNING:urllib3.connectionpool:Retrying (Retry(total=9, connect=None, read=None, redirect=None, status=None)) after connection broken by 'NewConnectionError('<urllib3.connection.HTTPSConnection object at 0x117fb9930>: Failed to establish a new connection: [Errno 8] nodename nor servname provided, or not known')': /mlhub/landcovernet_sa/data/v1.0/2018/18GXU/21/18GXU_21_2018_LC_10m.tif\n",
      "WARNING:urllib3.connectionpool:Retrying (Retry(total=9, connect=None, read=None, redirect=None, status=None)) after connection broken by 'NewConnectionError('<urllib3.connection.HTTPSConnection object at 0x117fba080>: Failed to establish a new connection: [Errno 8] nodename nor servname provided, or not known')': /mlhub/landcovernet_sa/data/v1.0/2018/18GXU/28/18GXU_28_2018_LC_10m.tif\n",
      "WARNING:urllib3.connectionpool:Retrying (Retry(total=9, connect=None, read=None, redirect=None, status=None)) after connection broken by 'NewConnectionError('<urllib3.connection.HTTPSConnection object at 0x117fb95a0>: Failed to establish a new connection: [Errno 8] nodename nor servname provided, or not known')': /mlhub/landcovernet_sa/data/v1.0/2018/18GXU/17/18GXU_17_2018_LC_10m.tif\n",
      "download assets: 100%|███████████████████████| 166/166 [00:17<00:00,  9.31it/s]\n",
      "INFO:radiant_mlhub.client.catalog_downloader:assets saved to /Users/michelleroby/radiant-earth/mlhub-tutorials/notebooks/2022 BRIN Workshop/ref_landcovernet_sa_v1\n"
     ]
    }
   ],
   "source": [
    "asset_filter = dict(\n",
    "    ref_landcovernet_sa_v1_labels=['labels']\n",
    ")\n",
    "\n",
    "dataset.download(intersects=aoi, collection_filter=asset_filter)"
   ]
  },
  {
   "cell_type": "markdown",
   "metadata": {},
   "source": [
    "### Download All Assets\n",
    "\n",
    "If you needed an entire dataset instad of a subset, run the `dataset.download` function to download the `ref_landcovernet_sa_v1` dataset to the current working directory.\n",
    "\n",
    "The line of code for the entire dataset download for the `ref_landcovernet_sa_v1` in this notebook would be:  \n",
    "`dataset.download()`\n",
    "\n",
    "However, this dataset is about 215 GB, so we do not reccomend downloading this entire dataset unless you are sure you have the storage space and need for the complete dataset. "
   ]
  }
 ],
 "metadata": {
  "kernelspec": {
   "display_name": "Python 3 (ipykernel)",
   "language": "python",
   "name": "python3"
  },
  "language_info": {
   "codemirror_mode": {
    "name": "ipython",
    "version": 3
   },
   "file_extension": ".py",
   "mimetype": "text/x-python",
   "name": "python",
   "nbconvert_exporter": "python",
   "pygments_lexer": "ipython3",
   "version": "3.10.8"
  }
 },
 "nbformat": 4,
 "nbformat_minor": 4
}
