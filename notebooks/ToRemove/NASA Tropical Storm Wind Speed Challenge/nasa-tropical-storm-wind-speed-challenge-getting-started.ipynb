{
 "cells": [
  {
   "cell_type": "markdown",
   "metadata": {},
   "source": [
    "<img src='https://radiant-assets.s3-us-west-2.amazonaws.com/PrimaryRadiantMLHubLogo.png' alt='Radiant MLHub Logo' width='300'/>\n",
    "\n",
    "# How to use the Radiant MLHub API to browse and download the NASA Tropical Storm Wind Speed Competition Data\n",
    "\n",
    "\n",
    "This Jupyter notebook, which you may copy and adapt for any use, shows basic examples of how to use the API to download labels and source imagery for the NASA Tropical Storm Wind Speed Competition dataset. Full documentation for the API is available at [docs.mlhub.earth](http://docs.mlhub.earth).\n",
    "\n",
    "We'll show you how to set up your authorization,retrieve the items (the data contained within them) from those collections, and load the data into a dataframe.\n",
    "\n",
    "Each item in our collection is explained in json format compliant with STAC label extension definition."
   ]
  },
  {
   "cell_type": "markdown",
   "metadata": {},
   "source": [
    "## Citation\n",
    "\n",
    "M. Maskey, R. Ramachandran, I. Gurung, B. Freitag, M. Ramasubramanian, J. Miller (2020) \"Tropical Cyclone Wind Estimation Competition Dataset\", Version 1.0, Radiant MLHub. \\[Date Accessed\\] [https://doi.org/10.34911/rdnt.xs53up](https://doi.org/10.34911/rdnt.xs53up)"
   ]
  },
  {
   "cell_type": "markdown",
   "metadata": {},
   "source": [
    "## Dependencies\n",
    "\n",
    "This notebook utilizes the [`radiant-mlhub` Python client](https://pypi.org/project/radiant-mlhub/) for interacting with the API and the [`pandas`](https://pandas.pydata.org/) library for compiling the data. If you are running this notebooks using Binder, then these dependency has already been installed. If you are running this notebook locally, you will need to install this yourself.\n",
    "\n",
    "See the official [`radiant-mlhub` docs](https://radiant-mlhub.readthedocs.io/) for more documentation of the full functionality of that library."
   ]
  },
  {
   "cell_type": "markdown",
   "metadata": {},
   "source": [
    "## Authentication\n",
    "\n",
    "### Create an API Key\n",
    "\n",
    "Access to the Radiant MLHub API requires an API key. To get your API key, go to [mlhub.earth/profile](https://mlhub.earth/profile). If you have not used Radiant MLHub before, you will need to sign up and create a new account. Otherwise, sign in. In the **API Keys** tab, you'll be able to create API key(s), which you will need. *Do not share* your API key with others: your usage may be limited and sharing your API key is a security risk.\n",
    "\n",
    "### Configure the Client\n",
    "\n",
    "Once you have your API key, you need to configure the `radiant_mlhub` library to use that key. There are a number of ways to configure this (see the [Authentication docs](https://radiant-mlhub.readthedocs.io/en/latest/authentication.html) for details). \n",
    "\n",
    "For these examples, we will set the `MLHUB_API_KEY` environment variable. Run the cell below to save your API key as an environment variable that the client library will recognize.\n",
    "\n",
    "*If you are running this notebook locally and have configured a profile as described in the [Authentication docs](https://radiant-mlhub.readthedocs.io/en/latest/authentication.html), then you do not need to execute this cell.*\n"
   ]
  },
  {
   "cell_type": "code",
   "execution_count": 3,
   "metadata": {},
   "outputs": [],
   "source": [
    "import os\n",
    "\n",
    "os.environ['MLHUB_API_KEY'] = 'd5fe86bf9abf5fef7e1513923b66ee5016768bc55775ccd1abf25c9326e1c8ec'#'PASTE_YOUR_API_KEY_HERE'"
   ]
  },
  {
   "cell_type": "code",
   "execution_count": 4,
   "metadata": {},
   "outputs": [],
   "source": [
    "import json\n",
    "import re\n",
    "from glob import glob\n",
    "import tarfile\n",
    "\n",
    "import numpy as np\n",
    "import pandas as pd\n",
    "from pathlib import Path\n",
    "from radiant_mlhub import Dataset, Collection, client"
   ]
  },
  {
   "cell_type": "markdown",
   "metadata": {},
   "source": [
    "## Explore the Collections\n",
    "\n",
    "A Radiant MLHub *Dataset* is a group of related *Collections*. We can use the `Dataset.list` method to get a list of the available datasets as Python objects and inspect their `id` and `title` attributes."
   ]
  },
  {
   "cell_type": "code",
   "execution_count": 3,
   "metadata": {},
   "outputs": [
    {
     "name": "stdout",
     "output_type": "stream",
     "text": [
      "umd_mali_crop_type: (2019 Mali CropType Training Data)\n",
      "idiv_asia_crop_type: (A crop type dataset for consistent land cover classification in Central Asia)\n",
      "dlr_fusion_competition_germany: (A Fusion Dataset for Crop Type Classification in Germany)\n",
      "ref_fusion_competition_south_africa: (A Fusion Dataset for Crop Type Classification in Western Cape, South Africa)\n",
      "ref_agrifieldnet_competition_v1: (AgriFieldNet Competition Dataset)\n",
      "bigearthnet_v1: (BigEarthNet)\n",
      "microsoft_chesapeake: (Chesapeake Land Cover)\n",
      "c2smsfloods_v1: (Cloud to Street - Microsoft flood dataset)\n",
      "csu_synthetic_attribution: (CSU Synthetic Attribution Benchmark Dataset)\n",
      "ref_african_crops_kenya_02: (CV4A Kenya Crop Type Competition)\n",
      "ref_african_crops_uganda_01: (Dalberg Data Insights Crop Type Uganda)\n",
      "rti_rwanda_crop_type: (Drone Imagery Classification Training Dataset for Crop Types in Rwanda)\n",
      "cgiar_east_africa_agricultural_field_centers: (East Africa Agricultural Field Centers)\n",
      "lacuna_fund_eotg_v1: (Eyes on the Ground Image Data)\n",
      "ref_african_crops_tanzania_01: (Great African Food Company Crop Type Tanzania)\n",
      "ref_landcovernet_af_v1: (LandCoverNet Africa)\n",
      "ref_landcovernet_as_v1: (LandCoverNet Asia)\n",
      "ref_landcovernet_au_v1: (LandCoverNet Australia)\n",
      "ref_landcovernet_eu_v1: (LandCoverNet Europe)\n",
      "ref_landcovernet_na_v1: (LandCoverNet North America)\n",
      "ref_landcovernet_sa_v1: (LandCoverNet South America)\n",
      "marida_v1: (Marine Debris Archive (MARIDA))\n",
      "nasa_marine_debris: (Marine Debris Dataset for Object Detection in Planetscope Imagery)\n",
      "nasa_floods_v1: (NASA Flood Extent Detection)\n",
      "open_cities_ai_challenge: (Open Cities AI Challenge Dataset)\n",
      "ref_african_crops_kenya_01: (PlantVillage Crop Type Kenya)\n",
      "ramp_accra_ghana: (ramp Building Footprint Training Dataset - Accra, Ghana)\n",
      "ramp_barishal_bangladesh: (ramp Building Footprint Training Dataset - Barishal, Bangladesh)\n",
      "ramp_bentiu_south_sudan: (ramp Building Footprint Training Dataset - Bentiu, South Sudan)\n",
      "ramp_chittagong_bangladesh: (ramp Building Footprint Training Dataset - Chittagong, Bangladesh)\n",
      "ramp_coxs_bazar_bangladesh: (ramp Building Footprint Training Dataset - Cox's Bazar, Bangladesh)\n",
      "ramp_daressalaam_tanzania: (ramp Building Footprint Training Dataset - Dar es Salaam, Tanzania)\n",
      "ramp_dhaka_bangladesh: (ramp Building Footprint Training Dataset - Dhaka, Bangladesh)\n",
      "ramp_hpa_an_myanmar: (ramp Building Footprint Training Dataset - Hpa-an, Myanmar)\n",
      "ramp_jashore_bangladesh: (ramp Building Footprint Training Dataset - Jashore, Bangladesh)\n",
      "ramp_karnataka_india: (ramp Building Footprint Training Dataset - Karnataka, India)\n",
      "ramp_les_cayes_haiti: (ramp Building Footprint Training Dataset - Les Cayes, Haiti)\n",
      "ramp_lubumbashi_drc: (ramp Building Footprint Training Dataset - Lubumbashi, Democratic Republic of the Congo)\n",
      "ramp_manjama_sierra_leone: (ramp Building Footprint Training Dataset - Manjama, Sierra Leone)\n",
      "ramp_mesopotamia_st_vincent: (ramp Building Footprint Training Dataset - Mesopotamia, St. Vincent)\n",
      "ramp_muscat_oman: (ramp Building Footprint Training Dataset - Muscat, Oman)\n",
      "ramp_mzuzu_malawi: (ramp Building Footprint Training Dataset - Mzuzu, Malawi)\n",
      "ramp_nairobi_kenya: (ramp Building Footprint Training Dataset - Nairobi, Kenya)\n",
      "ramp_ndjamena_chad: (ramp Building Footprint Training Dataset - N'Djamena, Chad)\n",
      "ramp_paris_france: (ramp Building Footprint Training Dataset - Paris, France)\n",
      "ramp_shanghai_china: (ramp Building Footprint Training Dataset - Shanghai, China)\n",
      "ramp_sylhet_bangladesh: (ramp Building Footprint Training Dataset - Sylhet, Bangladesh)\n",
      "ramp_wa_ghana: (ramp Building Footprint Training Dataset - Wa, Ghana)\n",
      "nasa_rwanda_field_boundary_competition: (Rwanda Field Boundary Competition Dataset)\n",
      "su_african_crops_ghana: (Semantic Segmentation of Crop Type in Ghana)\n",
      "su_african_crops_south_sudan: (Semantic Segmentation of Crop Type in South Sudan)\n",
      "sen12floods: (SEN12-FLOOD : A SAR and Multispectral Dataset for Flood Detection)\n",
      "sen12ts_v1: (SEN12TS: A SAR and Multispectral Dataset for Land Cover Classification)\n",
      "ref_cloud_cover_detection_challenge_v1: (Sentinel-2 Cloud Cover Segmentation Dataset)\n",
      "ts_cashew_benin: (Smallholder Cashew Plantations in Benin)\n",
      "ref_south_africa_crops_competition_v1: (South Africa Crop Type Competition)\n",
      "spacenet1: (SpaceNet 1)\n",
      "spacenet2: (SpaceNet 2)\n",
      "spacenet3: (SpaceNet 3)\n",
      "spacenet4: (SpaceNet 4)\n",
      "spacenet5: (SpaceNet 5)\n",
      "spacenet6: (SpaceNet 6)\n",
      "spacenet7: (SpaceNet 7)\n",
      "nasa_tropical_storm_competition: (Tropical Cyclone Wind Estimation Competition)\n",
      "su_sar_moisture_content_main: (Western USA Live Fuel Moisture)\n"
     ]
    }
   ],
   "source": [
    "for dataset in Dataset.list():\n",
    "    print(f'{dataset.id}: ({dataset.title})')"
   ]
  },
  {
   "cell_type": "markdown",
   "metadata": {},
   "source": [
    "We're interested in the \"Tropical Cyclone Wind Estimation Competition\" dataset. We can fetch this dataset using its\n",
    "ID (`nasa_tropical_storm_competition`) and then use the `collections` property to list the source imagery and label collections associated with this dataset."
   ]
  },
  {
   "cell_type": "code",
   "execution_count": 13,
   "metadata": {},
   "outputs": [
    {
     "name": "stderr",
     "output_type": "stream",
     "text": [
      "unarchive nasa_tropical_storm_competition.tar.gz: 100%|█| 458546/458546 [00\n"
     ]
    }
   ],
   "source": [
    "dataset = Dataset.fetch('nasa_tropical_storm_competition')\n",
    "dataset.collection_descriptions\n",
    "\n",
    "dataset.download(catalog_only=True)\n",
    "# print('Source Imagery Collections\\n--------------------------')\n",
    "# for collection in dataset.:\n",
    "#     print(collection.list)"
   ]
  },
  {
   "cell_type": "code",
   "execution_count": 4,
   "metadata": {},
   "outputs": [
    {
     "name": "stdout",
     "output_type": "stream",
     "text": [
      "Source Imagery Collections\n",
      "--------------------------\n",
      "nasa_tropical_storm_competition_train_source\n",
      "nasa_tropical_storm_competition_test_source\n",
      "\n",
      "Label Collections\n",
      "-----------------\n",
      "nasa_tropical_storm_competition_train_labels\n",
      "nasa_tropical_storm_competition_test_labels\n"
     ]
    }
   ],
   "source": [
    "dataset = Dataset.fetch('nasa_tropical_storm_competition')\n",
    "\n",
    "print('Source Imagery Collections\\n--------------------------')\n",
    "for collection in dataset.collections.source_imagery:\n",
    "    print(collection.id)\n",
    "\n",
    "print('')\n",
    "\n",
    "print('Label Collections\\n-----------------')\n",
    "for collection in dataset.collections.labels:\n",
    "    print(collection.id)"
   ]
  },
  {
   "cell_type": "markdown",
   "metadata": {},
   "source": [
    "We can see that this dataset has 2 collections containing source imagery for this dataset and 1 collection containing \n",
    "labels.\n",
    "\n",
    "The following cell gets the first item from each collection and prints the item ID, as well as a summary of the assets associated with the item."
   ]
  },
  {
   "cell_type": "code",
   "execution_count": 5,
   "metadata": {},
   "outputs": [
    {
     "name": "stdout",
     "output_type": "stream",
     "text": [
      "Collection: nasa_tropical_storm_competition_train_source\n",
      "Item: nasa_tropical_storm_competition_train_source_zzp_225\n",
      "Assets:\n",
      "- image: Hurricane Image [image/jpeg]\n",
      "- features: Image Features [application/json]\n",
      "\n",
      "\n",
      "Collection: nasa_tropical_storm_competition_test_source\n",
      "Item: nasa_tropical_storm_competition_test_source_zza_178\n",
      "Assets:\n",
      "- image: Hurricane Image [image/jpeg]\n",
      "- features: Image Features [application/json]\n",
      "\n",
      "\n",
      "Collection: nasa_tropical_storm_competition_train_labels\n",
      "Item: nasa_tropical_storm_competition_train_labels_zzp_225\n",
      "Assets:\n",
      "- labels: Wind Speed Label [application/json]\n",
      "\n",
      "\n",
      "Collection: nasa_tropical_storm_competition_test_labels\n",
      "Item: nasa_tropical_storm_competition_test_labels_zza_178\n",
      "Assets:\n",
      "- labels: Wind Speed Label [application/json]\n",
      "\n",
      "\n"
     ]
    }
   ],
   "source": [
    "def print_summary(item, collection):\n",
    "    print(f'Collection: {collection.id}')\n",
    "    print(f'Item: {item[\"id\"]}')\n",
    "    print('Assets:')\n",
    "    for asset_name, asset in item.get('assets', {}).items():\n",
    "        print(f'- {asset_name}: {asset[\"title\"]} [{asset[\"type\"]}]')\n",
    "    \n",
    "    print('\\n')\n",
    "\n",
    "for collection in dataset.collections:\n",
    "    item = next(client.list_collection_items(collection.id, limit=1))\n",
    "    print_summary(item, collection)\n"
   ]
  },
  {
   "cell_type": "markdown",
   "metadata": {},
   "source": [
    "Items in the  `*train_labels` collection have a `\"labels\"` JSON asset containing wind speed labels for each source image. Items in the `*test_source` and `*train_source` collections have both a `\"features\"` JSON asset containing image features as JSON and an `\"image\"` JPEG asset. "
   ]
  },
  {
   "cell_type": "markdown",
   "metadata": {},
   "source": [
    "## Download Assets\n",
    "\n",
    "In the following section, we download all JSON assets for both the `test` and `train` collections. ML Hub makes archives available that contain all the assets for a given collection. We will download these archives for the `nasa_tropical_storm_competition_train_labels` and `nasa_tropical_storm_competition_test_source` collections and then extract the items that we need."
   ]
  },
  {
   "cell_type": "code",
   "execution_count": 6,
   "metadata": {},
   "outputs": [],
   "source": [
    "# Use this to download to a data folder the current working directory\n",
    "# download_dir = Path('./data').resolve()\n",
    "\n",
    "# # Use this to download the the typical Mac user Downloads folder\n",
    "download_dir = Path('~/Downloads').expanduser().resolve()\n",
    "\n",
    "# # Use this to download to the typical Linux /tmp directory\n",
    "# download_dir = Path('/tmp')"
   ]
  },
  {
   "cell_type": "code",
   "execution_count": 7,
   "metadata": {},
   "outputs": [],
   "source": [
    "import radiant_mlhub"
   ]
  },
  {
   "cell_type": "code",
   "execution_count": 8,
   "metadata": {},
   "outputs": [
    {
     "data": {
      "text/plain": [
       "'0.5.5'"
      ]
     },
     "execution_count": 8,
     "metadata": {},
     "output_type": "execute_result"
    }
   ],
   "source": [
    "radiant_mlhub.__version__"
   ]
  },
  {
   "cell_type": "code",
   "execution_count": 9,
   "metadata": {},
   "outputs": [
    {
     "data": {
      "text/plain": [
       "PosixPath('/Users/michelleroby/Downloads')"
      ]
     },
     "execution_count": 9,
     "metadata": {},
     "output_type": "execute_result"
    }
   ],
   "source": [
    "download_dir"
   ]
  },
  {
   "cell_type": "code",
   "execution_count": null,
   "metadata": {},
   "outputs": [
    {
     "name": "stderr",
     "output_type": "stream",
     "text": [
      "INFO:radiant_mlhub.client.catalog_downloader:unarchive nasa_tropical_storm_competition.tar.gz ...\n",
      "unarchive nasa_tropical_storm_competition.tar.gz: 100%|█| 458546/458546 [00\n",
      "INFO:radiant_mlhub.client.catalog_downloader:create stac asset list (please wait) ...\n",
      "INFO:radiant_mlhub.client.catalog_downloader:343902 unique assets in stac catalog.\n",
      "download assets:   0%|              | 211/343902 [00:06<3:00:06, 31.80it/s]WARNING:urllib3.connectionpool:Retrying (Retry(total=9, connect=None, read=None, redirect=None, status=None)) after connection broken by 'NewConnectionError('<urllib3.connection.HTTPSConnection object at 0x116b1a230>: Failed to establish a new connection: [Errno 8] nodename nor servname provided, or not known')': /mlhub/nasa-tropical-storm-challenge/test/jvw_125_label.json\n",
      "download assets:   0%|              | 466/343902 [00:17<4:07:40, 23.11it/s]WARNING:urllib3.connectionpool:Retrying (Retry(total=9, connect=None, read=None, redirect=None, status=None)) after connection broken by 'NewConnectionError('<urllib3.connection.HTTPSConnection object at 0x2a1df8100>: Failed to establish a new connection: [Errno 8] nodename nor servname provided, or not known')': /mlhub/nasa-tropical-storm-challenge/test/fzw_156_label.json\n",
      "download assets:   0%|              | 649/343902 [00:25<4:34:24, 20.85it/s]WARNING:urllib3.connectionpool:Retrying (Retry(total=9, connect=None, read=None, redirect=None, status=None)) after connection broken by 'NewConnectionError('<urllib3.connection.HTTPSConnection object at 0x2afec4370>: Failed to establish a new connection: [Errno 8] nodename nor servname provided, or not known')': /mlhub/nasa-tropical-storm-challenge/test/gqc_012_label.json\n",
      "download assets:   0%|              | 854/343902 [00:34<3:37:14, 26.32it/s]WARNING:urllib3.connectionpool:Retrying (Retry(total=9, connect=None, read=None, redirect=None, status=None)) after connection broken by 'NewConnectionError('<urllib3.connection.HTTPSConnection object at 0x2d3e330a0>: Failed to establish a new connection: [Errno 8] nodename nor servname provided, or not known')': /mlhub/nasa-tropical-storm-challenge/test/roe_190_label.json\n",
      "download assets:   0%|             | 1064/343902 [00:43<3:35:39, 26.49it/s]WARNING:urllib3.connectionpool:Retrying (Retry(total=9, connect=None, read=None, redirect=None, status=None)) after connection broken by 'NewConnectionError('<urllib3.connection.HTTPSConnection object at 0x2aff85fc0>: Failed to establish a new connection: [Errno 8] nodename nor servname provided, or not known')': /mlhub/nasa-tropical-storm-challenge/test/fwn_051_label.json\n",
      "download assets:   1%|             | 1930/343902 [01:22<4:32:58, 20.88it/s]WARNING:urllib3.connectionpool:Retrying (Retry(total=9, connect=None, read=None, redirect=None, status=None)) after connection broken by 'NewConnectionError('<urllib3.connection.HTTPSConnection object at 0x2b014ccd0>: Failed to establish a new connection: [Errno 8] nodename nor servname provided, or not known')': /mlhub/nasa-tropical-storm-challenge/test/agl_301_label.json\n",
      "download assets:   1%|             | 2251/343902 [01:36<4:39:31, 20.37it/s]WARNING:urllib3.connectionpool:Retrying (Retry(total=9, connect=None, read=None, redirect=None, status=None)) after connection broken by 'NewConnectionError('<urllib3.connection.HTTPSConnection object at 0x2b0174190>: Failed to establish a new connection: [Errno 8] nodename nor servname provided, or not known')': /mlhub/nasa-tropical-storm-challenge/test/jvw_176_label.json\n",
      "download assets:   1%|             | 2349/343902 [01:41<4:06:12, 23.12it/s]WARNING:urllib3.connectionpool:Retrying (Retry(total=9, connect=None, read=None, redirect=None, status=None)) after connection broken by 'NewConnectionError('<urllib3.connection.HTTPSConnection object at 0x2b034aec0>: Failed to establish a new connection: [Errno 8] nodename nor servname provided, or not known')': /mlhub/nasa-tropical-storm-challenge/test/rxs_097_label.json\n",
      "download assets:   1%|             | 2418/343902 [01:44<4:29:34, 21.11it/s]WARNING:urllib3.connectionpool:Retrying (Retry(total=9, connect=None, read=None, redirect=None, status=None)) after connection broken by 'NewConnectionError('<urllib3.connection.HTTPSConnection object at 0x2b031e500>: Failed to establish a new connection: [Errno 8] nodename nor servname provided, or not known')': /mlhub/nasa-tropical-storm-challenge/test/ist_103_label.json\n",
      "download assets:   1%|             | 3013/343902 [02:10<4:37:20, 20.49it/s]WARNING:urllib3.connectionpool:Retrying (Retry(total=9, connect=None, read=None, redirect=None, status=None)) after connection broken by 'NewConnectionError('<urllib3.connection.HTTPSConnection object at 0x2b04734c0>: Failed to establish a new connection: [Errno 8] nodename nor servname provided, or not known')': /mlhub/nasa-tropical-storm-challenge/test/iag_261_label.json\n",
      "download assets:   1%|             | 3295/343902 [02:23<4:37:06, 20.49it/s]WARNING:urllib3.connectionpool:Retrying (Retry(total=9, connect=None, read=None, redirect=None, status=None)) after connection broken by 'NewConnectionError('<urllib3.connection.HTTPSConnection object at 0x2b0403610>: Failed to establish a new connection: [Errno 8] nodename nor servname provided, or not known')': /mlhub/nasa-tropical-storm-challenge/test/hhi_036_label.json\n",
      "download assets:   1%|▏            | 3353/343902 [02:26<4:40:02, 20.27it/s]WARNING:urllib3.connectionpool:Retrying (Retry(total=9, connect=None, read=None, redirect=None, status=None)) after connection broken by 'NewConnectionError('<urllib3.connection.HTTPSConnection object at 0x2b051c580>: Failed to establish a new connection: [Errno 8] nodename nor servname provided, or not known')': /mlhub/nasa-tropical-storm-challenge/test/oei_105_label.json\n",
      "download assets:   1%|▏            | 3649/343902 [02:39<4:25:31, 21.36it/s]WARNING:urllib3.connectionpool:Retrying (Retry(total=9, connect=None, read=None, redirect=None, status=None)) after connection broken by 'NewConnectionError('<urllib3.connection.HTTPSConnection object at 0x2b059e710>: Failed to establish a new connection: [Errno 8] nodename nor servname provided, or not known')': /mlhub/nasa-tropical-storm-challenge/test/nse_031_label.json\n",
      "download assets:   1%|▏            | 5113/343902 [03:43<4:18:18, 21.86it/s]WARNING:urllib3.connectionpool:Retrying (Retry(total=9, connect=None, read=None, redirect=None, status=None)) after connection broken by 'NewConnectionError('<urllib3.connection.HTTPSConnection object at 0x2b0972530>: Failed to establish a new connection: [Errno 8] nodename nor servname provided, or not known')': /mlhub/nasa-tropical-storm-challenge/test/aya_138_label.json\n",
      "download assets:   2%|▏            | 5185/343902 [03:46<4:45:20, 19.78it/s]WARNING:urllib3.connectionpool:Retrying (Retry(total=9, connect=None, read=None, redirect=None, status=None)) after connection broken by 'NewConnectionError('<urllib3.connection.HTTPSConnection object at 0x2b0973760>: Failed to establish a new connection: [Errno 8] nodename nor servname provided, or not known')': /mlhub/nasa-tropical-storm-challenge/test/mhi_048_label.json\n",
      "download assets:   2%|▏            | 5243/343902 [03:49<4:34:00, 20.60it/s]WARNING:urllib3.connectionpool:Retrying (Retry(total=9, connect=None, read=None, redirect=None, status=None)) after connection broken by 'NewConnectionError('<urllib3.connection.HTTPSConnection object at 0x2b09cacb0>: Failed to establish a new connection: [Errno 8] nodename nor servname provided, or not known')': /mlhub/nasa-tropical-storm-challenge/test/oxm_248_label.json\n",
      "download assets:   2%|▏            | 5390/343902 [03:55<3:37:08, 25.98it/s]WARNING:urllib3.connectionpool:Retrying (Retry(total=9, connect=None, read=None, redirect=None, status=None)) after connection broken by 'NewConnectionError('<urllib3.connection.HTTPSConnection object at 0x2e31d2aa0>: Failed to establish a new connection: [Errno 8] nodename nor servname provided, or not known')': /mlhub/nasa-tropical-storm-challenge/test/hhi_065_label.json\n",
      "download assets:   2%|▏            | 5509/343902 [04:01<4:50:43, 19.40it/s]WARNING:urllib3.connectionpool:Retrying (Retry(total=9, connect=None, read=None, redirect=None, status=None)) after connection broken by 'NewConnectionError('<urllib3.connection.HTTPSConnection object at 0x2b09cad70>: Failed to establish a new connection: [Errno 8] nodename nor servname provided, or not known')': /mlhub/nasa-tropical-storm-challenge/test/uuc_228_label.json\n"
     ]
    },
    {
     "name": "stderr",
     "output_type": "stream",
     "text": [
      "download assets:   2%|▏            | 6176/343902 [04:30<3:17:38, 28.48it/s]WARNING:urllib3.connectionpool:Retrying (Retry(total=9, connect=None, read=None, redirect=None, status=None)) after connection broken by 'NewConnectionError('<urllib3.connection.HTTPSConnection object at 0x2b0bc8640>: Failed to establish a new connection: [Errno 8] nodename nor servname provided, or not known')': /mlhub/nasa-tropical-storm-challenge/test/rfz_095_label.json\n",
      "download assets:   2%|▏            | 6451/343902 [04:42<4:41:28, 19.98it/s]WARNING:urllib3.connectionpool:Retrying (Retry(total=9, connect=None, read=None, redirect=None, status=None)) after connection broken by 'NewConnectionError('<urllib3.connection.HTTPSConnection object at 0x2b0c71f30>: Failed to establish a new connection: [Errno 8] nodename nor servname provided, or not known')': /mlhub/nasa-tropical-storm-challenge/test/nlm_182_label.json\n",
      "download assets:   2%|▏            | 6560/343902 [04:47<3:51:07, 24.33it/s]WARNING:urllib3.connectionpool:Retrying (Retry(total=9, connect=None, read=None, redirect=None, status=None)) after connection broken by 'NewConnectionError('<urllib3.connection.HTTPSConnection object at 0x2b0c71c30>: Failed to establish a new connection: [Errno 8] nodename nor servname provided, or not known')': /mlhub/nasa-tropical-storm-challenge/test/dva_076_label.json\n",
      "download assets:   2%|▎            | 6915/343902 [05:02<4:13:29, 22.16it/s]WARNING:urllib3.connectionpool:Retrying (Retry(total=9, connect=None, read=None, redirect=None, status=None)) after connection broken by 'NewConnectionError('<urllib3.connection.HTTPSConnection object at 0x2b0e1a440>: Failed to establish a new connection: [Errno 8] nodename nor servname provided, or not known')': /mlhub/nasa-tropical-storm-challenge/test/oii_228_label.json\n",
      "download assets:   2%|▎            | 6932/343902 [05:03<4:18:34, 21.72it/s]WARNING:urllib3.connectionpool:Retrying (Retry(total=9, connect=None, read=None, redirect=None, status=None)) after connection broken by 'NewConnectionError('<urllib3.connection.HTTPSConnection object at 0x2c517edd0>: Failed to establish a new connection: [Errno 8] nodename nor servname provided, or not known')': /mlhub/nasa-tropical-storm-challenge/test/vni_261_label.json\n",
      "download assets:   2%|▎            | 6999/343902 [05:06<4:01:25, 23.26it/s]WARNING:urllib3.connectionpool:Retrying (Retry(total=9, connect=None, read=None, redirect=None, status=None)) after connection broken by 'NewConnectionError('<urllib3.connection.HTTPSConnection object at 0x2b0e43070>: Failed to establish a new connection: [Errno 8] nodename nor servname provided, or not known')': /mlhub/nasa-tropical-storm-challenge/test/jlj_123_label.json\n",
      "download assets:   2%|▎            | 8080/343902 [05:53<4:14:04, 22.03it/s]WARNING:urllib3.connectionpool:Retrying (Retry(total=9, connect=None, read=None, redirect=None, status=None)) after connection broken by 'NewConnectionError('<urllib3.connection.HTTPSConnection object at 0x2b111abc0>: Failed to establish a new connection: [Errno 8] nodename nor servname provided, or not known')': /mlhub/nasa-tropical-storm-challenge/test/stv_135_label.json\n",
      "download assets:   2%|▎            | 8147/343902 [05:56<3:40:12, 25.41it/s]WARNING:urllib3.connectionpool:Retrying (Retry(total=9, connect=None, read=None, redirect=None, status=None)) after connection broken by 'NewConnectionError('<urllib3.connection.HTTPSConnection object at 0x2b11c03d0>: Failed to establish a new connection: [Errno 8] nodename nor servname provided, or not known')': /mlhub/nasa-tropical-storm-challenge/test/emz_292_label.json\n",
      "download assets:   3%|▎            | 8600/343902 [06:16<4:15:09, 21.90it/s]WARNING:urllib3.connectionpool:Retrying (Retry(total=9, connect=None, read=None, redirect=None, status=None)) after connection broken by 'NewConnectionError('<urllib3.connection.HTTPSConnection object at 0x2b126d750>: Failed to establish a new connection: [Errno 8] nodename nor servname provided, or not known')': /mlhub/nasa-tropical-storm-challenge/test/gfw_035_label.json\n",
      "download assets:   3%|▎            | 8866/343902 [06:27<3:33:39, 26.13it/s]WARNING:urllib3.connectionpool:Retrying (Retry(total=9, connect=None, read=None, redirect=None, status=None)) after connection broken by 'NewConnectionError('<urllib3.connection.HTTPSConnection object at 0x2b12e8250>: Failed to establish a new connection: [Errno 8] nodename nor servname provided, or not known')': /mlhub/nasa-tropical-storm-challenge/test/btz_022_label.json\n",
      "download assets:   3%|▎            | 9087/343902 [06:37<4:25:38, 21.01it/s]WARNING:urllib3.connectionpool:Retrying (Retry(total=9, connect=None, read=None, redirect=None, status=None)) after connection broken by 'NewConnectionError('<urllib3.connection.HTTPSConnection object at 0x2b1340850>: Failed to establish a new connection: [Errno 8] nodename nor servname provided, or not known')': /mlhub/nasa-tropical-storm-challenge/test/uxz_058_label.json\n",
      "download assets:   3%|▎            | 9100/343902 [06:38<4:04:20, 22.84it/s]\n",
      "WARNING:urllib3.connectionpool:Retrying (Retry(total=9, connect=None, read=None, redirect=None, status=None)) after connection broken by 'NewConnectionError('<urllib3.connection.HTTPSConnection object at 0x2b1517250>: Failed to establish a new connection: [Errno 8] nodename nor servname provided, or not known')': /mlhub/nasa-tropical-storm-challenge/test/pph_159_label.json\n",
      "WARNING:urllib3.connectionpool:Retrying (Retry(total=9, connect=None, read=None, redirect=None, status=None)) after connection broken by 'NewConnectionError('<urllib3.connection.HTTPSConnection object at 0x2b1569bd0>: Failed to establish a new connection: [Errno 8] nodename nor servname provided, or not known')': /mlhub/nasa-tropical-storm-challenge/test/stv_194_label.json\n",
      "WARNING:urllib3.connectionpool:Retrying (Retry(total=9, connect=None, read=None, redirect=None, status=None)) after connection broken by 'NewConnectionError('<urllib3.connection.HTTPSConnection object at 0x2b17124a0>: Failed to establish a new connection: [Errno 8] nodename nor servname provided, or not known')': /mlhub/nasa-tropical-storm-challenge/test/ggy_151_label.json\n",
      "WARNING:urllib3.connectionpool:Retrying (Retry(total=9, connect=None, read=None, redirect=None, status=None)) after connection broken by 'NewConnectionError('<urllib3.connection.HTTPSConnection object at 0x2b1710a30>: Failed to establish a new connection: [Errno 8] nodename nor servname provided, or not known')': /mlhub/nasa-tropical-storm-challenge/test/jql_431_label.json\n",
      "WARNING:urllib3.connectionpool:Retrying (Retry(total=9, connect=None, read=None, redirect=None, status=None)) after connection broken by 'NewConnectionError('<urllib3.connection.HTTPSConnection object at 0x2b1793790>: Failed to establish a new connection: [Errno 8] nodename nor servname provided, or not known')': /mlhub/nasa-tropical-storm-challenge/test/frt_021_label.json\n",
      "WARNING:urllib3.connectionpool:Retrying (Retry(total=9, connect=None, read=None, redirect=None, status=None)) after connection broken by 'NewConnectionError('<urllib3.connection.HTTPSConnection object at 0x2b1713be0>: Failed to establish a new connection: [Errno 8] nodename nor servname provided, or not known')': /mlhub/nasa-tropical-storm-challenge/test/jql_294_label.json\n",
      "WARNING:urllib3.connectionpool:Retrying (Retry(total=9, connect=None, read=None, redirect=None, status=None)) after connection broken by 'NewConnectionError('<urllib3.connection.HTTPSConnection object at 0x2b19bd3c0>: Failed to establish a new connection: [Errno 8] nodename nor servname provided, or not known')': /mlhub/nasa-tropical-storm-challenge/test/xze_132_label.json\n",
      "WARNING:urllib3.connectionpool:Retrying (Retry(total=9, connect=None, read=None, redirect=None, status=None)) after connection broken by 'NewConnectionError('<urllib3.connection.HTTPSConnection object at 0x2b1969c00>: Failed to establish a new connection: [Errno 8] nodename nor servname provided, or not known')': /mlhub/nasa-tropical-storm-challenge/test/mpq_075_label.json\n",
      "WARNING:urllib3.connectionpool:Retrying (Retry(total=9, connect=None, read=None, redirect=None, status=None)) after connection broken by 'NewConnectionError('<urllib3.connection.HTTPSConnection object at 0x2b1a8ff40>: Failed to establish a new connection: [Errno 8] nodename nor servname provided, or not known')': /mlhub/nasa-tropical-storm-challenge/test/xum_274_label.json\n"
     ]
    },
    {
     "name": "stderr",
     "output_type": "stream",
     "text": [
      "WARNING:urllib3.connectionpool:Retrying (Retry(total=9, connect=None, read=None, redirect=None, status=None)) after connection broken by 'NewConnectionError('<urllib3.connection.HTTPSConnection object at 0x2b1c37400>: Failed to establish a new connection: [Errno 8] nodename nor servname provided, or not known')': /mlhub/nasa-tropical-storm-challenge/test/xzi_114_label.json\n",
      "WARNING:urllib3.connectionpool:Retrying (Retry(total=9, connect=None, read=None, redirect=None, status=None)) after connection broken by 'NewConnectionError('<urllib3.connection.HTTPSConnection object at 0x2b1e0b2b0>: Failed to establish a new connection: [Errno 8] nodename nor servname provided, or not known')': /mlhub/nasa-tropical-storm-challenge/test/gxi_159_label.json\n",
      "WARNING:urllib3.connectionpool:Retrying (Retry(total=9, connect=None, read=None, redirect=None, status=None)) after connection broken by 'NewConnectionError('<urllib3.connection.HTTPSConnection object at 0x2b1e341c0>: Failed to establish a new connection: [Errno 8] nodename nor servname provided, or not known')': /mlhub/nasa-tropical-storm-challenge/test/oei_007_label.json\n",
      "WARNING:urllib3.connectionpool:Retrying (Retry(total=9, connect=None, read=None, redirect=None, status=None)) after connection broken by 'NewConnectionError('<urllib3.connection.HTTPSConnection object at 0x2b1fb6c50>: Failed to establish a new connection: [Errno 8] nodename nor servname provided, or not known')': /mlhub/nasa-tropical-storm-challenge/test/vwx_102_label.json\n",
      "WARNING:urllib3.connectionpool:Retrying (Retry(total=9, connect=None, read=None, redirect=None, status=None)) after connection broken by 'NewConnectionError('<urllib3.connection.HTTPSConnection object at 0x2b21b3580>: Failed to establish a new connection: [Errno 8] nodename nor servname provided, or not known')': /mlhub/nasa-tropical-storm-challenge/test/ojw_312_label.json\n",
      "WARNING:urllib3.connectionpool:Retrying (Retry(total=9, connect=None, read=None, redirect=None, status=None)) after connection broken by 'NewConnectionError('<urllib3.connection.HTTPSConnection object at 0x2b2308940>: Failed to establish a new connection: [Errno 8] nodename nor servname provided, or not known')': /mlhub/nasa-tropical-storm-challenge/test/kvi_025_label.json\n",
      "WARNING:urllib3.connectionpool:Retrying (Retry(total=9, connect=None, read=None, redirect=None, status=None)) after connection broken by 'NewConnectionError('<urllib3.connection.HTTPSConnection object at 0x2b2433100>: Failed to establish a new connection: [Errno 8] nodename nor servname provided, or not known')': /mlhub/nasa-tropical-storm-challenge/test/npg_124_label.json\n",
      "WARNING:urllib3.connectionpool:Retrying (Retry(total=9, connect=None, read=None, redirect=None, status=None)) after connection broken by 'NewConnectionError('<urllib3.connection.HTTPSConnection object at 0x2b2409cc0>: Failed to establish a new connection: [Errno 8] nodename nor servname provided, or not known')': /mlhub/nasa-tropical-storm-challenge/test/dvp_315_label.json\n",
      "WARNING:urllib3.connectionpool:Retrying (Retry(total=9, connect=None, read=None, redirect=None, status=None)) after connection broken by 'NewConnectionError('<urllib3.connection.HTTPSConnection object at 0x2b2459d50>: Failed to establish a new connection: [Errno 8] nodename nor servname provided, or not known')': /mlhub/nasa-tropical-storm-challenge/test/oyc_243_label.json\n",
      "WARNING:urllib3.connectionpool:Retrying (Retry(total=9, connect=None, read=None, redirect=None, status=None)) after connection broken by 'NewConnectionError('<urllib3.connection.HTTPSConnection object at 0x2b24ac910>: Failed to establish a new connection: [Errno 8] nodename nor servname provided, or not known')': /mlhub/nasa-tropical-storm-challenge/test/sqs_148_label.json\n",
      "WARNING:urllib3.connectionpool:Retrying (Retry(total=9, connect=None, read=None, redirect=None, status=None)) after connection broken by 'NewConnectionError('<urllib3.connection.HTTPSConnection object at 0x2b24d9b40>: Failed to establish a new connection: [Errno 8] nodename nor servname provided, or not known')': /mlhub/nasa-tropical-storm-challenge/test/ixs_192_label.json\n",
      "WARNING:urllib3.connectionpool:Retrying (Retry(total=9, connect=None, read=None, redirect=None, status=None)) after connection broken by 'NewConnectionError('<urllib3.connection.HTTPSConnection object at 0x2b24d8910>: Failed to establish a new connection: [Errno 8] nodename nor servname provided, or not known')': /mlhub/nasa-tropical-storm-challenge/test/dvp_142_label.json\n",
      "WARNING:urllib3.connectionpool:Retrying (Retry(total=9, connect=None, read=None, redirect=None, status=None)) after connection broken by 'NewConnectionError('<urllib3.connection.HTTPSConnection object at 0x2b26d6dd0>: Failed to establish a new connection: [Errno 8] nodename nor servname provided, or not known')': /mlhub/nasa-tropical-storm-challenge/test/agb_018_label.json\n",
      "WARNING:urllib3.connectionpool:Retrying (Retry(total=9, connect=None, read=None, redirect=None, status=None)) after connection broken by 'NewConnectionError('<urllib3.connection.HTTPSConnection object at 0x2b2906890>: Failed to establish a new connection: [Errno 8] nodename nor servname provided, or not known')': /mlhub/nasa-tropical-storm-challenge/test/qlc_055_label.json\n",
      "WARNING:urllib3.connectionpool:Retrying (Retry(total=9, connect=None, read=None, redirect=None, status=None)) after connection broken by 'NewConnectionError('<urllib3.connection.HTTPSConnection object at 0x2b2c80310>: Failed to establish a new connection: [Errno 8] nodename nor servname provided, or not known')': /mlhub/nasa-tropical-storm-challenge/test/azb_083_label.json\n",
      "WARNING:urllib3.connectionpool:Retrying (Retry(total=9, connect=None, read=None, redirect=None, status=None)) after connection broken by 'NewConnectionError('<urllib3.connection.HTTPSConnection object at 0x2b2c2d450>: Failed to establish a new connection: [Errno 8] nodename nor servname provided, or not known')': /mlhub/nasa-tropical-storm-challenge/test/weq_253_label.json\n",
      "WARNING:urllib3.connectionpool:Retrying (Retry(total=9, connect=None, read=None, redirect=None, status=None)) after connection broken by 'NewConnectionError('<urllib3.connection.HTTPSConnection object at 0x2b2c2e800>: Failed to establish a new connection: [Errno 8] nodename nor servname provided, or not known')': /mlhub/nasa-tropical-storm-challenge/test/kqf_136_label.json\n",
      "WARNING:urllib3.connectionpool:Retrying (Retry(total=9, connect=None, read=None, redirect=None, status=None)) after connection broken by 'NewConnectionError('<urllib3.connection.HTTPSConnection object at 0x2b2fd0c10>: Failed to establish a new connection: [Errno 8] nodename nor servname provided, or not known')': /mlhub/nasa-tropical-storm-challenge/test/whm_275_label.json\n",
      "WARNING:urllib3.connectionpool:Retrying (Retry(total=9, connect=None, read=None, redirect=None, status=None)) after connection broken by 'NewConnectionError('<urllib3.connection.HTTPSConnection object at 0x2b2fd1690>: Failed to establish a new connection: [Errno 8] nodename nor servname provided, or not known')': /mlhub/nasa-tropical-storm-challenge/test/qsv_082_label.json\n",
      "WARNING:urllib3.connectionpool:Retrying (Retry(total=9, connect=None, read=None, redirect=None, status=None)) after connection broken by 'NewConnectionError('<urllib3.connection.HTTPSConnection object at 0x2b3026140>: Failed to establish a new connection: [Errno 8] nodename nor servname provided, or not known')': /mlhub/nasa-tropical-storm-challenge/test/ohj_269_label.json\n",
      "WARNING:urllib3.connectionpool:Retrying (Retry(total=9, connect=None, read=None, redirect=None, status=None)) after connection broken by 'NewConnectionError('<urllib3.connection.HTTPSConnection object at 0x2b307a710>: Failed to establish a new connection: [Errno 8] nodename nor servname provided, or not known')': /mlhub/nasa-tropical-storm-challenge/test/sqt_147_label.json\n",
      "WARNING:urllib3.connectionpool:Retrying (Retry(total=9, connect=None, read=None, redirect=None, status=None)) after connection broken by 'NewConnectionError('<urllib3.connection.HTTPSConnection object at 0x2b30a8f10>: Failed to establish a new connection: [Errno 8] nodename nor servname provided, or not known')': /mlhub/nasa-tropical-storm-challenge/test/lqb_068_label.json\n"
     ]
    },
    {
     "name": "stderr",
     "output_type": "stream",
     "text": [
      "WARNING:urllib3.connectionpool:Retrying (Retry(total=9, connect=None, read=None, redirect=None, status=None)) after connection broken by 'NewConnectionError('<urllib3.connection.HTTPSConnection object at 0x2b30d3dc0>: Failed to establish a new connection: [Errno 8] nodename nor servname provided, or not known')': /mlhub/nasa-tropical-storm-challenge/test/hdi_015_label.json\n",
      "WARNING:urllib3.connectionpool:Retrying (Retry(total=9, connect=None, read=None, redirect=None, status=None)) after connection broken by 'NewConnectionError('<urllib3.connection.HTTPSConnection object at 0x2b33276d0>: Failed to establish a new connection: [Errno 8] nodename nor servname provided, or not known')': /mlhub/nasa-tropical-storm-challenge/test/oel_006_label.json\n"
     ]
    }
   ],
   "source": [
    "dataset.download(output_dir=download_dir)\n",
    "\n",
    "print('Done\\n')"
   ]
  },
  {
   "cell_type": "markdown",
   "metadata": {},
   "source": [
    "## Loading Data into a Dataframe\n",
    "\n",
    "The cells below will load both the training and test items into dataframes, join the two, and sort the rows by the Image ID. "
   ]
  },
  {
   "cell_type": "code",
   "execution_count": null,
   "metadata": {},
   "outputs": [],
   "source": [
    "train_data = []\n",
    "\n",
    "train_source = 'nasa_tropical_storm_competition_train_source'\n",
    "train_labels = 'nasa_tropical_storm_competition_train_labels'\n",
    "\n",
    "jpg_names = glob(str(download_dir / train_source / '**' / '*.json'))\n",
    "\n",
    "for jpg_path in jpg_names:\n",
    "    jpg_path = Path(jpg_path)\n",
    "    \n",
    "    # Get the IDs and file paths\n",
    "    features_path = jpg_path.parent / 'features.json'\n",
    "    image_id = '_'.join(jpg_path.parent.stem.rsplit('_', 3)[-2:])\n",
    "    storm_id = image_id.split('_')[0]\n",
    "    labels_path = str(jpg_path.parent / 'labels.json').replace(train_source, train_labels)\n",
    "\n",
    "\n",
    "    # Load the features data\n",
    "    with open(features_path) as src:\n",
    "        features_data = json.load(src)\n",
    "        \n",
    "    # Load the labels data\n",
    "    with open(labels_path) as src:\n",
    "        labels_data = json.load(src)\n",
    "\n",
    "    train_data.append([\n",
    "        image_id, \n",
    "        storm_id, \n",
    "        int(features_data['relative_time']), \n",
    "        int(features_data['ocean']), \n",
    "        int(labels_data['wind_speed'])\n",
    "    ])\n",
    "\n",
    "train_df = pd.DataFrame(\n",
    "    np.array(train_data),\n",
    "    columns=['Image ID', 'Storm ID', 'Relative Time', 'Ocean', 'Wind Speed']\n",
    ").sort_values(by=['Image ID']).reset_index(drop=True)\n",
    "\n",
    "train_df.head()"
   ]
  },
  {
   "cell_type": "code",
   "execution_count": null,
   "metadata": {},
   "outputs": [],
   "source": [
    "test_data = []\n",
    "\n",
    "test_source = 'nasa_tropical_storm_competition_test_source'\n",
    "\n",
    "jpg_names = glob(str(download_dir / test_source / '**' / '*.jpg'))\n",
    "\n",
    "for jpg_path in jpg_names:\n",
    "    jpg_path = Path(jpg_path)\n",
    "\n",
    "    # Get the IDs and file paths\n",
    "    features_path = jpg_path.parent / 'features.json'\n",
    "    image_id = '_'.join(jpg_path.parent.stem.rsplit('_', 3)[-2:])\n",
    "    storm_id = image_id.split('_')[0]\n",
    "\n",
    "    # Load the features data\n",
    "    with open(features_path) as src:\n",
    "        features_data = json.load(src)\n",
    "\n",
    "    test_data.append([\n",
    "        image_id, \n",
    "        storm_id, \n",
    "        int(features_data['relative_time']), \n",
    "        int(features_data['ocean']), \n",
    "    ])\n",
    "\n",
    "test_df = pd.DataFrame(\n",
    "    np.array(test_data),\n",
    "    columns=['Image ID', 'Storm ID', 'Relative Time', 'Ocean']\n",
    ").sort_values(by=['Image ID']).reset_index(drop=True)\n",
    "\n",
    "test_df.head()"
   ]
  }
 ],
 "metadata": {
  "kernelspec": {
   "display_name": "Python 3 (ipykernel)",
   "language": "python",
   "name": "python3"
  },
  "language_info": {
   "codemirror_mode": {
    "name": "ipython",
    "version": 3
   },
   "file_extension": ".py",
   "mimetype": "text/x-python",
   "name": "python",
   "nbconvert_exporter": "python",
   "pygments_lexer": "ipython3",
   "version": "3.10.8"
  }
 },
 "nbformat": 4,
 "nbformat_minor": 4
}
