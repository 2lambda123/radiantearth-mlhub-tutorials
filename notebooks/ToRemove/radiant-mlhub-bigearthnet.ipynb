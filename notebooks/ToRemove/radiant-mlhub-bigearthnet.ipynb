{
 "cells": [
  {
   "cell_type": "markdown",
   "metadata": {},
   "source": [
    "<img src='https://radiant-assets.s3-us-west-2.amazonaws.com/PrimaryRadiantMLHubLogo.png' alt='Radiant MLHub Logo' width='300'/>\n",
    "\n",
    "# How to use the Radiant MLHub API to browse and download the BigEarthNet dataset\n",
    "\n",
    "This Jupyter notebook, which you may copy and adapt for any use, shows basic examples of how to use the API to download labels and source imagery for the BigEarthNet dataset. Full documentation for the API is available at [mlhub.earth/docs](https://mlhub.earth/docs).\n",
    "\n",
    "We'll show you how to set up your authorization, see the list of available collections and datasets, and retrieve the items (the data contained within them) from those collections. \n",
    "\n",
    "Each item in our collection is explained in json format compliant with [STAC](https://stacspec.org/) [label extension](https://github.com/stac-extensions/label) definition."
   ]
  },
  {
   "cell_type": "markdown",
   "metadata": {},
   "source": [
    "## Citation Requirements and Contact Information\n",
    "\n",
    "The BigEarthNet archive was constructed by the Remote Sensing Image Analysis [(RSiM)](https://www.rsim.tu-berlin.de/menue/remote_sensing_image_analysis_group/) Group and the Database Systems and Information Management [(DIMA)](https://www.dima.tu-berlin.de/menue/database_systems_and_information_management_group/?no_cache=1) Group at the Technische Universität Berlin [(TU Berlin)](https://www.tu-berlin.de/menue/home/parameter/en/). This work is supported by the European Research Council under the ERC Starting Grant BigEarth and by the German Ministry for Education and Research as Berlin Big Data Center [(BBDC)](https://www.zib.de/projects/bbdc-berlin-big-data-center).\n",
    "\n",
    "The BigEarthNet archive *requires* the a citation of the BigEarthNet paper whenever the archive is used. The citation for this paper is listed below along with contact information for inqueries about the archive and a PDF manual detailing the structure of the archive.\n",
    "\n",
    "## Citation\n",
    "\n",
    "G. Sumbul, M. Charfuelan, B. Demir, V. Markl, \"[BigEarthNet: A Large-Scale Benchmark Archive for Remote Sensing Image Understanding](http://bigearth.net/static/documents/BigEarthNet_IGARSS_2019.pdf)\", IEEE International Geoscience and Remote Sensing Symposium, pp. 5901-5904, Yokohama, Japan, 2019.\n",
    "\n",
    "\n",
    "\n",
    "## Contact Information\n",
    "\n",
    "* Website: [www.bigearth.net](www.bigearth.net)\n",
    "* Email: contact@bigearth.net\n",
    "* Manual: [http://bigearth.net/static/documents/BigEarthNetManual.pdf](http://bigearth.net/static/documents/BigEarthNetManual.pdf)"
   ]
  },
  {
   "cell_type": "markdown",
   "metadata": {},
   "source": [
    "## Dependencies\n",
    "\n",
    "This notebook utilizes the [`radiant-mlhub` Python client](https://pypi.org/project/radiant-mlhub/) for interacting with the API. If you are running this notebooks using Binder, then this dependency has already been installed. If you are running this notebook locally, you will need to install this yourself.\n",
    "\n",
    "See the official [`radiant-mlhub` docs](https://radiant-mlhub.readthedocs.io/) for more documentation of the full functionality of that library."
   ]
  },
  {
   "cell_type": "markdown",
   "metadata": {},
   "source": [
    "## Authentication\n",
    "\n",
    "### Create an API Key\n",
    "\n",
    "Access to the Radiant MLHub API requires an API key. To get your API key, go to [mlhub.earth/profile](https://mlhub.earth/profile). If you have not used Radiant MLHub before, you will need to sign up and create a new account. Otherwise, sign in. In the **API Keys** tab, you'll be able to create API key(s), which you will need. *Do not share* your API key with others: your usage may be limited and sharing your API key is a security risk.\n",
    "\n",
    "### Configure the Client\n",
    "\n",
    "Once you have your API key, you need to configure the `radiant_mlhub` library to use that key. There are a number of ways to configure this (see the [Authentication docs](https://radiant-mlhub.readthedocs.io/en/latest/authentication.html) for details). \n",
    "\n",
    "For these examples, we will set the `MLHUB_API_KEY` environment variable. Run the cell below to save your API key as an environment variable that the client library will recognize.\n",
    "\n",
    "*If you are running this notebook locally and have configured a profile as described in the [Authentication docs](https://radiant-mlhub.readthedocs.io/en/latest/authentication.html), then you do not need to execute this cell.*\n"
   ]
  },
  {
   "cell_type": "code",
   "execution_count": 1,
   "metadata": {},
   "outputs": [],
   "source": [
    "import os\n",
    "\n",
    "os.environ['MLHUB_API_KEY'] = 'd5fe86bf9abf5fef7e1513923b66ee5016768bc55775ccd1abf25c9326e1c8ec'#'PASTE_YOUR_API_KEY_HERE'"
   ]
  },
  {
   "cell_type": "code",
   "execution_count": 7,
   "metadata": {},
   "outputs": [],
   "source": [
    "import urllib.parse\n",
    "import re\n",
    "from pathlib import Path\n",
    "import itertools as it\n",
    "from functools import partial\n",
    "\n",
    "from radiant_mlhub import client, get_session, Dataset"
   ]
  },
  {
   "cell_type": "markdown",
   "metadata": {},
   "source": [
    "## List BigEarthNet Collections\n",
    "\n",
    "A **collection** in the Radiant MLHub API is a [STAC Collection](https://github.com/radiantearth/stac-spec/tree/master/collection-spec) representing a group of resources (represented as [STAC Items](https://github.com/radiantearth/stac-spec/tree/master/item-spec) and their associated assets) covering a given spatial and temporal extent. A Radiant MLHub collection may contain resources representing training labels, source imagery, or (rarely) both.\n",
    "\n",
    "The following cell uses the `client.list_collections` function to list all available collections, and then uses Python's built-in [`filter` function](https://docs.python.org/3/library/functions.html#filter) to filter this to only collections containing `bigearthnet` in the ID, title, description."
   ]
  },
  {
   "cell_type": "code",
   "execution_count": 3,
   "metadata": {},
   "outputs": [
    {
     "name": "stdout",
     "output_type": "stream",
     "text": [
      "ID:       bigearthnet_v1_source\n",
      "License:  CDLA-Permissive-1.0\n",
      "Citation: G. Sumbul, M. Charfuelan, B. Demir, V. Markl, \"BigEarthNet: A Large-Scale Benchmark Archive for Remote Sensing Image Understanding\", IEEE International Geoscience and Remote Sensing Symposium, pp. 5901-5904, Yokohama, Japan, 2019.\n",
      "STAC Extensions: ['https://stac-extensions.github.io/scientific/v1.0.0/schema.json']\n",
      "\n",
      "ID:       bigearthnet_v1_labels\n",
      "License:  CDLA-Permissive-1.0\n",
      "Citation: G. Sumbul, M. Charfuelan, B. Demir, V. Markl, \"BigEarthNet: A Large-Scale Benchmark Archive for Remote Sensing Image Understanding\", IEEE International Geoscience and Remote Sensing Symposium, pp. 5901-5904, Yokohama, Japan, 2019.\n",
      "STAC Extensions: ['https://stac-extensions.github.io/scientific/v1.0.0/schema.json']\n",
      "\n"
     ]
    }
   ],
   "source": [
    "def ben_filter(collection):\n",
    "    # NOTE: The \"or\" statements below ensure that if the value of collection['title'] or collection['description']\n",
    "    #  are None we can still use the .lower() function without raising an exception.\n",
    "    return 'bigearthnet' in collection['id'].lower() \\\n",
    "        or 'bigearthnet' in (collection.get('title') or '').lower() \\\n",
    "        or 'bigearthnet' in (collection.get('description') or '').lower()\n",
    "\n",
    "# Get list of all collections\n",
    "all_collections = client.list_collections()\n",
    "\n",
    "# Filter to only the BigEarthNet collections and print some key information\n",
    "for collection in filter(ben_filter, all_collections):\n",
    "    collection_id = collection['id']\n",
    "    license = collection.get('license', 'N/A')\n",
    "    citation = collection.get('sci:citation', 'N/A')\n",
    "    stac_extensions = collection.get('stac_extensions') or []\n",
    "\n",
    "    print(f'ID:       {collection_id}\\nLicense:  {license}\\nCitation: {citation}\\nSTAC Extensions: {stac_extensions}\\n')"
   ]
  },
  {
   "cell_type": "markdown",
   "metadata": {},
   "source": [
    "## Download Source Imagery & Labels\n",
    "\n",
    "> **NOTE:** If you are running these notebooks using Binder these resources will be downloaded to the remote file system that the notebooks are running on and **not to your local file system.** If you want to download the files to your machine, you will need to clone the repo and run the notebook locally.\n",
    "\n",
    "The labels in BigEarthNet have three properties.\n",
    "1) An array of land cover type classes contained in the tile\n",
    "2) Whether the tile contains cloud and cloud shadows\n",
    "3) Whether the tile has seasonal snow\n",
    "\n",
    "We can filter our download based off one or more of the properties."
   ]
  },
  {
   "cell_type": "markdown",
   "metadata": {},
   "source": [
    "### Create Download Helpers\n",
    "\n",
    "The cell below creates 3 helper functions that we will use to select items from a collection and download the associated assets (source imagery or labels).\n",
    "\n",
    "* **`get_items`**\n",
    "\n",
    "    This is a [Python generator](https://realpython.com/introduction-to-python-generators/) that yields items from the given collection that match the criteria we give it. For instance, the following code will yield up to 10 items from the BigEarthNet labels collection that contain *either the `'Coniferous forest'` or the `'Rice fields'` labels*:\n",
    "    ```python\n",
    "    get_items('bigearthnet_v1_labels', classes=['Coniferous forest', 'Rice fields'], max_items=10)\n",
    "    ```\n",
    "\n",
    "* **`download`** \n",
    "\n",
    "    This function takes an item dictionary and an asset key and downloads the given asset. By default, the asset is downloaded to the current working directory, but this can be changed using the `output_dir` argument.\n",
    "\n",
    "* **`filter_item`** \n",
    "\n",
    "    This is a helper function used by the `get_items` function to filter items returned by `client.list_collection_items`.\n"
   ]
  },
  {
   "cell_type": "code",
   "execution_count": 4,
   "metadata": {},
   "outputs": [],
   "source": [
    "def filter_item(item, classes=None, cloud_and_shadow=None, seasonal_snow=None):\n",
    "    \"\"\"Function to be used as an argument to Python's built-in filter function that filters out any items that \n",
    "    do not match the given classes, cloud_and_shadow, and/or seasonal_snow values.\n",
    "    \n",
    "    If any of these filter arguments are set to None, they will be ignored. For instance, using \n",
    "    filter_item(item, cloud_and_shadow=True) will only return items where item['properties']['cloud_and_shadow'] == 'true', \n",
    "    and will not filter based on classes/labels, or seasonal_snow.\n",
    "    \"\"\"\n",
    "    # Match classes, if provided\n",
    "    \n",
    "    item_labels = item['properties'].get('labels', [])\n",
    "    if classes is not None and not any(label in classes for label in item_labels):\n",
    "        return False\n",
    "    \n",
    "    # Match cloud_and_shadow, if provided\n",
    "    item_cloud_and_shadow = item['properties'].get('cloud_and_shadow', 'false') == 'true'\n",
    "    if cloud_and_shadow is not None and item_cloud_and_shadow != cloud_and_shadow:\n",
    "        return False\n",
    "    \n",
    "    # Match seasonal_snow, if provided\n",
    "    item_seasonal_snow = item['properties'].get('seasonal_snow', 'false') == 'true'\n",
    "    if seasonal_snow is not None and item_seasonal_snow != seasonal_snow:\n",
    "        return False\n",
    "    \n",
    "    return True\n",
    "\n",
    "\n",
    "def get_items(collection_id, classes=None, cloud_and_shadow=None, seasonal_snow=None, max_items=1):\n",
    "    \"\"\"Generator that yields up to max_items items that match the given classes, cloud_and_shadow, and seasonal_snow \n",
    "    values. Setting one of these filter arguments to None will cause that filter to be ignored (e.g. classes=None \n",
    "    means that items will not be filtered by class/label).\n",
    "    \"\"\"\n",
    "    filter_fn = partial(\n",
    "        filter_item, \n",
    "        classes=classes, \n",
    "        cloud_and_shadow=cloud_and_shadow, \n",
    "        seasonal_snow=seasonal_snow\n",
    "    )\n",
    "    filtered = filter(\n",
    "        filter_fn, \n",
    "\n",
    "        # Note that we set the limit to None here because we want to limit based on our own filters. It is not \n",
    "        #  recommended to use limit=None for the client.list_collection_items method without implementing your \n",
    "        #  own limits because the bigearthnet_v1_labels collection contains hundreds of thousands of items and \n",
    "        #  looping over these items without limit may take a very long time.\n",
    "        client.list_collection_items(collection_id, limit=None)\n",
    "    )\n",
    "    yield from it.islice(filtered, max_items)\n",
    "    \n",
    "\n",
    "def download(item, asset_key, output_dir='./data'):\n",
    "    \"\"\"Downloads the given item asset by looking up that asset and then following the \"href\" URL.\"\"\"\n",
    "    \n",
    "    output_dir = Path(output_dir)\n",
    "    output_dir.mkdir(exist_ok=True, parents=True)\n",
    "\n",
    "    # Try to get the given asset and return None if it does not exist\n",
    "    asset = item.get('assets', {}).get(asset_key)\n",
    "    if asset is None:\n",
    "        print(f'Asset \"{asset_key}\" does not exist in this item')\n",
    "        return None\n",
    "    \n",
    "    # Try to get the download URL from the asset and return None if it does not exist\n",
    "    download_url = asset.get('href')\n",
    "    if download_url is None:\n",
    "        print(f'Asset {asset_key} does not have an \"href\" property, cannot download.')\n",
    "        return None\n",
    "    \n",
    "    session = get_session()\n",
    "    r = session.get(download_url, allow_redirects=True, stream=True)\n",
    "    \n",
    "    filename = urllib.parse.urlsplit(r.url).path.split('/')[-1]\n",
    "    output_path = Path(output_dir) / filename\n",
    "\n",
    "    \n",
    "    with output_path.open('wb') as dst:\n",
    "        for chunk in r.iter_content(chunk_size=512 * 1024):\n",
    "            if chunk:\n",
    "                dst.write(chunk)\n",
    "    \n",
    "    print(f'Downloaded to {output_path.resolve()}')\n"
   ]
  },
  {
   "cell_type": "markdown",
   "metadata": {},
   "source": [
    "### Select an Item\n",
    "\n",
    "As we saw above, the BigEarthNet dataset is split into two collections: one which contains the labels and one which contains the source imagery. Label items link to their respective source imagery items so we will set our collection ID to `bigearthnet_v1_labels`."
   ]
  },
  {
   "cell_type": "code",
   "execution_count": 5,
   "metadata": {
    "scrolled": true
   },
   "outputs": [],
   "source": [
    "collection_id = 'bigearthnet_v1_labels'"
   ]
  },
  {
   "cell_type": "markdown",
   "metadata": {},
   "source": [
    "In this next cell we will fetch the first item in the collection which contains either the `Coniferous forest` or `Rice fields` classes, does not contain clouds and cloud shadows, and does not contain seasonal snow. We the display the item ID and summarize the assets associated with this item."
   ]
  },
  {
   "cell_type": "code",
   "execution_count": 6,
   "metadata": {},
   "outputs": [
    {
     "ename": "AuthenticationError",
     "evalue": "Authentication failed. API Key: PASTE_YOUR_API_KEY_HERE",
     "output_type": "error",
     "traceback": [
      "\u001b[0;31m---------------------------------------------------------------------------\u001b[0m",
      "\u001b[0;31mAuthenticationError\u001b[0m                       Traceback (most recent call last)",
      "Cell \u001b[0;32mIn[6], line 8\u001b[0m\n\u001b[1;32m      1\u001b[0m items \u001b[38;5;241m=\u001b[39m get_items(\n\u001b[1;32m      2\u001b[0m     collection_id,\n\u001b[1;32m      3\u001b[0m     classes\u001b[38;5;241m=\u001b[39m[\u001b[38;5;124m'\u001b[39m\u001b[38;5;124mConiferous forest\u001b[39m\u001b[38;5;124m'\u001b[39m, \u001b[38;5;124m'\u001b[39m\u001b[38;5;124mRice fields\u001b[39m\u001b[38;5;124m'\u001b[39m],\n\u001b[0;32m   (...)\u001b[0m\n\u001b[1;32m      6\u001b[0m     max_items\u001b[38;5;241m=\u001b[39m\u001b[38;5;241m1\u001b[39m\n\u001b[1;32m      7\u001b[0m )\n\u001b[0;32m----> 8\u001b[0m first_item \u001b[38;5;241m=\u001b[39m \u001b[38;5;28;43mnext\u001b[39;49m\u001b[43m(\u001b[49m\u001b[43mitems\u001b[49m\u001b[43m)\u001b[49m\n\u001b[1;32m     10\u001b[0m \u001b[38;5;28mprint\u001b[39m (\u001b[38;5;124mf\u001b[39m\u001b[38;5;124m'\u001b[39m\u001b[38;5;124mID: \u001b[39m\u001b[38;5;132;01m{\u001b[39;00mfirst_item[\u001b[38;5;124m\"\u001b[39m\u001b[38;5;124mid\u001b[39m\u001b[38;5;124m\"\u001b[39m]\u001b[38;5;132;01m}\u001b[39;00m\u001b[38;5;130;01m\\n\u001b[39;00m\u001b[38;5;124m'\u001b[39m)\n\u001b[1;32m     12\u001b[0m \u001b[38;5;66;03m# Summarize the assets\u001b[39;00m\n",
      "Cell \u001b[0;32mIn[4], line 48\u001b[0m, in \u001b[0;36mget_items\u001b[0;34m(collection_id, classes, cloud_and_shadow, seasonal_snow, max_items)\u001b[0m\n\u001b[1;32m     33\u001b[0m filter_fn \u001b[38;5;241m=\u001b[39m partial(\n\u001b[1;32m     34\u001b[0m     filter_item, \n\u001b[1;32m     35\u001b[0m     classes\u001b[38;5;241m=\u001b[39mclasses, \n\u001b[1;32m     36\u001b[0m     cloud_and_shadow\u001b[38;5;241m=\u001b[39mcloud_and_shadow, \n\u001b[1;32m     37\u001b[0m     seasonal_snow\u001b[38;5;241m=\u001b[39mseasonal_snow\n\u001b[1;32m     38\u001b[0m )\n\u001b[1;32m     39\u001b[0m filtered \u001b[38;5;241m=\u001b[39m \u001b[38;5;28mfilter\u001b[39m(\n\u001b[1;32m     40\u001b[0m     filter_fn, \n\u001b[1;32m     41\u001b[0m \n\u001b[0;32m   (...)\u001b[0m\n\u001b[1;32m     46\u001b[0m     client\u001b[38;5;241m.\u001b[39mlist_collection_items(collection_id, limit\u001b[38;5;241m=\u001b[39m\u001b[38;5;28;01mNone\u001b[39;00m)\n\u001b[1;32m     47\u001b[0m )\n\u001b[0;32m---> 48\u001b[0m \u001b[38;5;28;01myield from\u001b[39;00m it\u001b[38;5;241m.\u001b[39mislice(filtered, max_items)\n",
      "File \u001b[0;32m~/radiant-earth/mlhub-tutorials/checking/lib/python3.10/site-packages/radiant_mlhub/client/collections.py:123\u001b[0m, in \u001b[0;36mlist_collection_items\u001b[0;34m(collection_id, page_size, extensions, limit, api_key, profile)\u001b[0m\n\u001b[1;32m    120\u001b[0m     \u001b[38;5;28;01mfor\u001b[39;00m page \u001b[38;5;129;01min\u001b[39;00m session\u001b[38;5;241m.\u001b[39mpaginate(\u001b[38;5;124mf\u001b[39m\u001b[38;5;124m'\u001b[39m\u001b[38;5;124mcollections/\u001b[39m\u001b[38;5;132;01m{\u001b[39;00mcollection_id\u001b[38;5;132;01m}\u001b[39;00m\u001b[38;5;124m/items\u001b[39m\u001b[38;5;124m'\u001b[39m, params\u001b[38;5;241m=\u001b[39mparams):\n\u001b[1;32m    121\u001b[0m         \u001b[38;5;28;01myield from\u001b[39;00m page[\u001b[38;5;124m'\u001b[39m\u001b[38;5;124mfeatures\u001b[39m\u001b[38;5;124m'\u001b[39m]\n\u001b[0;32m--> 123\u001b[0m \u001b[38;5;28;01myield from\u001b[39;00m it\u001b[38;5;241m.\u001b[39mislice(_list_items(), limit)\n",
      "File \u001b[0;32m~/radiant-earth/mlhub-tutorials/checking/lib/python3.10/site-packages/radiant_mlhub/client/collections.py:120\u001b[0m, in \u001b[0;36mlist_collection_items.<locals>._list_items\u001b[0;34m()\u001b[0m\n\u001b[1;32m    118\u001b[0m \u001b[38;5;28;01mif\u001b[39;00m extensions \u001b[38;5;129;01mis\u001b[39;00m \u001b[38;5;129;01mnot\u001b[39;00m \u001b[38;5;28;01mNone\u001b[39;00m:\n\u001b[1;32m    119\u001b[0m     params[\u001b[38;5;124m'\u001b[39m\u001b[38;5;124mextensions\u001b[39m\u001b[38;5;124m'\u001b[39m] \u001b[38;5;241m=\u001b[39m extensions\n\u001b[0;32m--> 120\u001b[0m \u001b[38;5;28;01mfor\u001b[39;00m page \u001b[38;5;129;01min\u001b[39;00m session\u001b[38;5;241m.\u001b[39mpaginate(\u001b[38;5;124mf\u001b[39m\u001b[38;5;124m'\u001b[39m\u001b[38;5;124mcollections/\u001b[39m\u001b[38;5;132;01m{\u001b[39;00mcollection_id\u001b[38;5;132;01m}\u001b[39;00m\u001b[38;5;124m/items\u001b[39m\u001b[38;5;124m'\u001b[39m, params\u001b[38;5;241m=\u001b[39mparams):\n\u001b[1;32m    121\u001b[0m     \u001b[38;5;28;01myield from\u001b[39;00m page[\u001b[38;5;124m'\u001b[39m\u001b[38;5;124mfeatures\u001b[39m\u001b[38;5;124m'\u001b[39m]\n",
      "File \u001b[0;32m~/radiant-earth/mlhub-tutorials/checking/lib/python3.10/site-packages/radiant_mlhub/session.py:195\u001b[0m, in \u001b[0;36mSession.paginate\u001b[0;34m(self, url, **kwargs)\u001b[0m\n\u001b[1;32m    193\u001b[0m \u001b[38;5;28;01mif\u001b[39;00m current_url \u001b[38;5;129;01mis\u001b[39;00m \u001b[38;5;28;01mNone\u001b[39;00m:\n\u001b[1;32m    194\u001b[0m     \u001b[38;5;28;01mbreak\u001b[39;00m\n\u001b[0;32m--> 195\u001b[0m page \u001b[38;5;241m=\u001b[39m \u001b[38;5;28;43mself\u001b[39;49m\u001b[38;5;241;43m.\u001b[39;49m\u001b[43mget\u001b[49m\u001b[43m(\u001b[49m\u001b[43mcurrent_url\u001b[49m\u001b[43m,\u001b[49m\u001b[43m \u001b[49m\u001b[38;5;241;43m*\u001b[39;49m\u001b[38;5;241;43m*\u001b[39;49m\u001b[43mkwargs\u001b[49m\u001b[43m)\u001b[49m\u001b[38;5;241m.\u001b[39mjson()\n\u001b[1;32m    196\u001b[0m \u001b[38;5;28;01myield\u001b[39;00m page\n\u001b[1;32m    198\u001b[0m current_url \u001b[38;5;241m=\u001b[39m \u001b[38;5;28mdict\u001b[39m(\u001b[38;5;28mnext\u001b[39m((\n\u001b[1;32m    199\u001b[0m     link \u001b[38;5;28;01mfor\u001b[39;00m link \u001b[38;5;129;01min\u001b[39;00m page\u001b[38;5;241m.\u001b[39mget(\u001b[38;5;124m'\u001b[39m\u001b[38;5;124mlinks\u001b[39m\u001b[38;5;124m'\u001b[39m, [])\n\u001b[1;32m    200\u001b[0m     \u001b[38;5;28;01mif\u001b[39;00m link[\u001b[38;5;124m'\u001b[39m\u001b[38;5;124mrel\u001b[39m\u001b[38;5;124m'\u001b[39m] \u001b[38;5;241m==\u001b[39m \u001b[38;5;124m'\u001b[39m\u001b[38;5;124mnext\u001b[39m\u001b[38;5;124m'\u001b[39m), {}\n\u001b[1;32m    201\u001b[0m ))\u001b[38;5;241m.\u001b[39mget(\u001b[38;5;124m'\u001b[39m\u001b[38;5;124mhref\u001b[39m\u001b[38;5;124m'\u001b[39m)\n",
      "File \u001b[0;32m~/radiant-earth/mlhub-tutorials/checking/lib/python3.10/site-packages/requests/sessions.py:542\u001b[0m, in \u001b[0;36mSession.get\u001b[0;34m(self, url, **kwargs)\u001b[0m\n\u001b[1;32m    534\u001b[0m \u001b[38;5;124mr\u001b[39m\u001b[38;5;124;03m\"\"\"Sends a GET request. Returns :class:`Response` object.\u001b[39;00m\n\u001b[1;32m    535\u001b[0m \n\u001b[1;32m    536\u001b[0m \u001b[38;5;124;03m:param url: URL for the new :class:`Request` object.\u001b[39;00m\n\u001b[1;32m    537\u001b[0m \u001b[38;5;124;03m:param \\*\\*kwargs: Optional arguments that ``request`` takes.\u001b[39;00m\n\u001b[1;32m    538\u001b[0m \u001b[38;5;124;03m:rtype: requests.Response\u001b[39;00m\n\u001b[1;32m    539\u001b[0m \u001b[38;5;124;03m\"\"\"\u001b[39;00m\n\u001b[1;32m    541\u001b[0m kwargs\u001b[38;5;241m.\u001b[39msetdefault(\u001b[38;5;124m'\u001b[39m\u001b[38;5;124mallow_redirects\u001b[39m\u001b[38;5;124m'\u001b[39m, \u001b[38;5;28;01mTrue\u001b[39;00m)\n\u001b[0;32m--> 542\u001b[0m \u001b[38;5;28;01mreturn\u001b[39;00m \u001b[38;5;28;43mself\u001b[39;49m\u001b[38;5;241;43m.\u001b[39;49m\u001b[43mrequest\u001b[49m\u001b[43m(\u001b[49m\u001b[38;5;124;43m'\u001b[39;49m\u001b[38;5;124;43mGET\u001b[39;49m\u001b[38;5;124;43m'\u001b[39;49m\u001b[43m,\u001b[49m\u001b[43m \u001b[49m\u001b[43murl\u001b[49m\u001b[43m,\u001b[49m\u001b[43m \u001b[49m\u001b[38;5;241;43m*\u001b[39;49m\u001b[38;5;241;43m*\u001b[39;49m\u001b[43mkwargs\u001b[49m\u001b[43m)\u001b[49m\n",
      "File \u001b[0;32m~/radiant-earth/mlhub-tutorials/checking/lib/python3.10/site-packages/radiant_mlhub/session.py:111\u001b[0m, in \u001b[0;36mSession.request\u001b[0;34m(self, method, url, **kwargs)\u001b[0m\n\u001b[1;32m    109\u001b[0m     \u001b[38;5;28;01melse\u001b[39;00m:\n\u001b[1;32m    110\u001b[0m         msg \u001b[38;5;241m+\u001b[39m\u001b[38;5;241m=\u001b[39m \u001b[38;5;124m\"\u001b[39m\u001b[38;5;124mNo API key provided.\u001b[39m\u001b[38;5;124m\"\u001b[39m\n\u001b[0;32m--> 111\u001b[0m     \u001b[38;5;28;01mraise\u001b[39;00m AuthenticationError(msg)\n\u001b[1;32m    113\u001b[0m \u001b[38;5;66;03m# Raise exceptions for any HTTP codes >=400\u001b[39;00m\n\u001b[1;32m    114\u001b[0m response\u001b[38;5;241m.\u001b[39mraise_for_status()\n",
      "\u001b[0;31mAuthenticationError\u001b[0m: Authentication failed. API Key: PASTE_YOUR_API_KEY_HERE"
     ]
    }
   ],
   "source": [
    "items = get_items(\n",
    "    collection_id,\n",
    "    classes=['Coniferous forest', 'Rice fields'],\n",
    "    cloud_and_shadow=False,\n",
    "    seasonal_snow=False,\n",
    "    max_items=1\n",
    ")\n",
    "first_item = next(items)\n",
    "\n",
    "print (f'ID: {first_item[\"id\"]}\\n')\n",
    "\n",
    "# Summarize the assets\n",
    "print('Assets\\n------')\n",
    "for asset_key, asset in first_item['assets'].items():\n",
    "    print(f'Key: {asset_key}\\nTitle: {asset[\"title\"]}\\n')"
   ]
  },
  {
   "cell_type": "markdown",
   "metadata": {},
   "source": [
    "### Download Labels\n",
    "\n",
    "This item has only a single `labels` asset, which we can download using our helper function."
   ]
  },
  {
   "cell_type": "code",
   "execution_count": null,
   "metadata": {},
   "outputs": [],
   "source": [
    "download(first_item, 'labels')"
   ]
  },
  {
   "cell_type": "markdown",
   "metadata": {},
   "source": [
    "### Download Source Imagery\n",
    "\n",
    "The following cell fetches all of the source links (links to the source imagery STAC Items in the Radiant MLHub API) associated with the `labels` item above and summarizes the assets associated with these source items."
   ]
  },
  {
   "cell_type": "code",
   "execution_count": null,
   "metadata": {
    "scrolled": true
   },
   "outputs": [],
   "source": [
    "items_pattern = re.compile(r'^/mlhub/v1/collections/(\\w+)/items/(\\w+)$')\n",
    "\n",
    "# Summarize the source links\n",
    "print('Sources\\n------------')\n",
    "for link in first_item['links']:\n",
    "    if link['rel'] == 'source':\n",
    "        # Get the item ID (last part of the link path)\n",
    "        item_path = urllib.parse.urlsplit(link['href']).path\n",
    "        item_collection, item_id = items_pattern.fullmatch(item_path).groups()\n",
    "        item = client.get_collection_item(item_collection, item_id)\n",
    "        \n",
    "        item_id = item[\"id\"]\n",
    "        platform = item[\"properties\"].get('platform', 'N/A')\n",
    "        n_assets = len(item['assets'])\n",
    "        print(f'ID: {item_id}\\nPlatform: {platform}\\nNumber of Assets: {n_assets}\\n')\n",
    "        \n",
    "        # Only summarize the first 4 bands...\n",
    "        for asset_key, asset in it.islice(item['assets'].items(), 4):\n",
    "            media_type = asset['type']\n",
    "            band_names = [band['common_name'] for band in asset['eo:bands']]\n",
    "            print(f'Key: {asset_key}\\nAsset Type: {media_type}\\nBands: {band_names}\\n')\n",
    "            \n",
    "        print('...')\n"
   ]
  },
  {
   "cell_type": "markdown",
   "metadata": {},
   "source": [
    "We can see that there is a single source item associated with our labels and that it corresponds to a Sentinel 2 scene. This item has 13 assets (all Cloud-Optimized GeoTIFFs) corresponding to the different bands (we have only summarized the first 4 bands above).\n",
    "\n",
    "The following cell downloads each of the 3 RGB band images."
   ]
  },
  {
   "cell_type": "code",
   "execution_count": null,
   "metadata": {},
   "outputs": [],
   "source": [
    "source_item = client.get_collection_item('bigearthnet_v1_source', 'bigearthnet_v1_source_S2B_MSIL2A_20170709T094029_30_50')\n",
    "\n",
    "rgb_bands = ['B02', 'B03', 'B04']\n",
    "\n",
    "for asset_key in rgb_bands:\n",
    "    download(source_item, asset_key)"
   ]
  },
  {
   "cell_type": "markdown",
   "metadata": {},
   "source": [
    "### Download All Assets\n",
    "\n",
    "Looping through all items and downloading the associated assets may be *very* time-consuming for larger datasets like BigEarthNet. Instead, MLHub provides TAR archives of all collections that can be downloaded using the `/archive/{collection_id}` endpoint. \n",
    "\n",
    "The following cell uses the `client.download_archive` function to download the `bigearthnet_v1_labels` archive to the current working directory."
   ]
  },
  {
   "cell_type": "code",
   "execution_count": null,
   "metadata": {},
   "outputs": [],
   "source": [
    "output_dir = Path('./data')\n",
    "\n",
    "print(f'Downloading {collection_id} archive...')\n",
    "client.download_collection_archive(collection_id, output_dir=output_dir)"
   ]
  }
 ],
 "metadata": {
  "kernelspec": {
   "display_name": "Python 3 (ipykernel)",
   "language": "python",
   "name": "python3"
  },
  "language_info": {
   "codemirror_mode": {
    "name": "ipython",
    "version": 3
   },
   "file_extension": ".py",
   "mimetype": "text/x-python",
   "name": "python",
   "nbconvert_exporter": "python",
   "pygments_lexer": "ipython3",
   "version": "3.10.8"
  }
 },
 "nbformat": 4,
 "nbformat_minor": 4
}
